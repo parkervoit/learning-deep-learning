{
 "cells": [
  {
   "cell_type": "markdown",
   "metadata": {},
   "source": [
    "# Kaggle Intro to Deep Learning Tutorial"
   ]
  },
  {
   "cell_type": "code",
   "execution_count": 57,
   "metadata": {},
   "outputs": [],
   "source": [
    "import matplotlib.pyplot as plt\n",
    "import numpy as np\n",
    "# setting matplotlib style defaults\n",
    "plt.style.use('seaborn-whitegrid')\n",
    "plt.rc('figure', autolayout=True)\n",
    "plt.rc('axes', labelweight='bold', labelsize='large',\n",
    "       titleweight='bold', titlesize=18, titlepad=10)\n",
    "import pandas as pd\n",
    "from tensorflow import keras\n",
    "from tensorflow.keras import layers, callbacks\n",
    "import tensorflow as tf\n",
    "from sklearn.preprocessing import StandardScaler, OneHotEncoder\n",
    "from sklearn.compose import make_column_transformer, make_column_selector\n",
    "from sklearn.model_selection import train_test_split \n",
    "from sklearn.impute import SimpleImputer\n",
    "from sklearn.pipeline import make_pipeline"
   ]
  },
  {
   "cell_type": "markdown",
   "metadata": {},
   "source": [
    "## A Single Neuron "
   ]
  },
  {
   "cell_type": "code",
   "execution_count": 2,
   "metadata": {},
   "outputs": [
    {
     "data": {
      "text/html": [
       "<div>\n",
       "<style scoped>\n",
       "    .dataframe tbody tr th:only-of-type {\n",
       "        vertical-align: middle;\n",
       "    }\n",
       "\n",
       "    .dataframe tbody tr th {\n",
       "        vertical-align: top;\n",
       "    }\n",
       "\n",
       "    .dataframe thead th {\n",
       "        text-align: right;\n",
       "    }\n",
       "</style>\n",
       "<table border=\"1\" class=\"dataframe\">\n",
       "  <thead>\n",
       "    <tr style=\"text-align: right;\">\n",
       "      <th></th>\n",
       "      <th>fixed acidity</th>\n",
       "      <th>volatile acidity</th>\n",
       "      <th>citric acid</th>\n",
       "      <th>residual sugar</th>\n",
       "      <th>chlorides</th>\n",
       "      <th>free sulfur dioxide</th>\n",
       "      <th>total sulfur dioxide</th>\n",
       "      <th>density</th>\n",
       "      <th>pH</th>\n",
       "      <th>sulphates</th>\n",
       "      <th>alcohol</th>\n",
       "      <th>quality</th>\n",
       "    </tr>\n",
       "  </thead>\n",
       "  <tbody>\n",
       "    <tr>\n",
       "      <th>0</th>\n",
       "      <td>7.4</td>\n",
       "      <td>0.70</td>\n",
       "      <td>0.00</td>\n",
       "      <td>1.9</td>\n",
       "      <td>0.076</td>\n",
       "      <td>11.0</td>\n",
       "      <td>34.0</td>\n",
       "      <td>0.9978</td>\n",
       "      <td>3.51</td>\n",
       "      <td>0.56</td>\n",
       "      <td>9.4</td>\n",
       "      <td>5</td>\n",
       "    </tr>\n",
       "    <tr>\n",
       "      <th>1</th>\n",
       "      <td>7.8</td>\n",
       "      <td>0.88</td>\n",
       "      <td>0.00</td>\n",
       "      <td>2.6</td>\n",
       "      <td>0.098</td>\n",
       "      <td>25.0</td>\n",
       "      <td>67.0</td>\n",
       "      <td>0.9968</td>\n",
       "      <td>3.20</td>\n",
       "      <td>0.68</td>\n",
       "      <td>9.8</td>\n",
       "      <td>5</td>\n",
       "    </tr>\n",
       "    <tr>\n",
       "      <th>2</th>\n",
       "      <td>7.8</td>\n",
       "      <td>0.76</td>\n",
       "      <td>0.04</td>\n",
       "      <td>2.3</td>\n",
       "      <td>0.092</td>\n",
       "      <td>15.0</td>\n",
       "      <td>54.0</td>\n",
       "      <td>0.9970</td>\n",
       "      <td>3.26</td>\n",
       "      <td>0.65</td>\n",
       "      <td>9.8</td>\n",
       "      <td>5</td>\n",
       "    </tr>\n",
       "    <tr>\n",
       "      <th>3</th>\n",
       "      <td>11.2</td>\n",
       "      <td>0.28</td>\n",
       "      <td>0.56</td>\n",
       "      <td>1.9</td>\n",
       "      <td>0.075</td>\n",
       "      <td>17.0</td>\n",
       "      <td>60.0</td>\n",
       "      <td>0.9980</td>\n",
       "      <td>3.16</td>\n",
       "      <td>0.58</td>\n",
       "      <td>9.8</td>\n",
       "      <td>6</td>\n",
       "    </tr>\n",
       "    <tr>\n",
       "      <th>4</th>\n",
       "      <td>7.4</td>\n",
       "      <td>0.70</td>\n",
       "      <td>0.00</td>\n",
       "      <td>1.9</td>\n",
       "      <td>0.076</td>\n",
       "      <td>11.0</td>\n",
       "      <td>34.0</td>\n",
       "      <td>0.9978</td>\n",
       "      <td>3.51</td>\n",
       "      <td>0.56</td>\n",
       "      <td>9.4</td>\n",
       "      <td>5</td>\n",
       "    </tr>\n",
       "  </tbody>\n",
       "</table>\n",
       "</div>"
      ],
      "text/plain": [
       "   fixed acidity  volatile acidity  citric acid  residual sugar  chlorides  \\\n",
       "0            7.4              0.70         0.00             1.9      0.076   \n",
       "1            7.8              0.88         0.00             2.6      0.098   \n",
       "2            7.8              0.76         0.04             2.3      0.092   \n",
       "3           11.2              0.28         0.56             1.9      0.075   \n",
       "4            7.4              0.70         0.00             1.9      0.076   \n",
       "\n",
       "   free sulfur dioxide  total sulfur dioxide  density    pH  sulphates  \\\n",
       "0                 11.0                  34.0   0.9978  3.51       0.56   \n",
       "1                 25.0                  67.0   0.9968  3.20       0.68   \n",
       "2                 15.0                  54.0   0.9970  3.26       0.65   \n",
       "3                 17.0                  60.0   0.9980  3.16       0.58   \n",
       "4                 11.0                  34.0   0.9978  3.51       0.56   \n",
       "\n",
       "   alcohol  quality  \n",
       "0      9.4        5  \n",
       "1      9.8        5  \n",
       "2      9.8        5  \n",
       "3      9.8        6  \n",
       "4      9.4        5  "
      ]
     },
     "execution_count": 2,
     "metadata": {},
     "output_type": "execute_result"
    }
   ],
   "source": [
    "# .csv downloaded from Kaggle\n",
    "red_wine = pd.read_csv('archive/red-wine.csv')\n",
    "red_wine.head()"
   ]
  },
  {
   "cell_type": "code",
   "execution_count": 3,
   "metadata": {},
   "outputs": [
    {
     "data": {
      "text/plain": [
       "(1599, 12)"
      ]
     },
     "execution_count": 3,
     "metadata": {},
     "output_type": "execute_result"
    }
   ],
   "source": [
    "red_wine.shape # determine number of columns to use for features"
   ]
  },
  {
   "cell_type": "code",
   "execution_count": 4,
   "metadata": {},
   "outputs": [],
   "source": [
    "# input shape is your number of features. in this case my target is quality, with 11 features.\n",
    "input_shape = [red_wine.shape[1]-1]"
   ]
  },
  {
   "cell_type": "code",
   "execution_count": 5,
   "metadata": {},
   "outputs": [],
   "source": [
    "# create a linear learning model. unit is the number of outputs, and input shape is features\n",
    "model = keras.Sequential([layers.Dense(units=1, input_shape=input_shape)])"
   ]
  },
  {
   "cell_type": "code",
   "execution_count": 6,
   "metadata": {},
   "outputs": [
    {
     "data": {
      "text/plain": [
       "<tensorflow.python.keras.engine.sequential.Sequential at 0x7f9c90274510>"
      ]
     },
     "execution_count": 6,
     "metadata": {},
     "output_type": "execute_result"
    }
   ],
   "source": [
    "model"
   ]
  },
  {
   "cell_type": "code",
   "execution_count": 7,
   "metadata": {},
   "outputs": [
    {
     "name": "stdout",
     "output_type": "stream",
     "text": [
      "Weights\n",
      "<tf.Variable 'dense/kernel:0' shape=(11, 1) dtype=float32, numpy=\n",
      "array([[-0.22510481],\n",
      "       [-0.45554134],\n",
      "       [ 0.54978436],\n",
      "       [ 0.6610517 ],\n",
      "       [ 0.00134075],\n",
      "       [-0.25477162],\n",
      "       [-0.66844666],\n",
      "       [-0.39734498],\n",
      "       [ 0.44946474],\n",
      "       [ 0.2490865 ],\n",
      "       [-0.45275307]], dtype=float32)>\n",
      "\n",
      "Bias\n",
      "<tf.Variable 'dense/bias:0' shape=(1,) dtype=float32, numpy=array([0.], dtype=float32)>\n"
     ]
    }
   ],
   "source": [
    "# feature weights\n",
    "w, b = model.weights\n",
    "print(\"Weights\\n{}\\n\\nBias\\n{}\".format(w, b))"
   ]
  },
  {
   "cell_type": "markdown",
   "metadata": {},
   "source": [
    "> These weights are first selected randomly. This is a very simple model right now, but eventually a deep learning model would begin to change weights with every iteration to help with prediction."
   ]
  },
  {
   "cell_type": "code",
   "execution_count": 8,
   "metadata": {},
   "outputs": [
    {
     "data": {
      "image/png": "[encoded data removed]",
      "text/plain": [
       "<Figure size 600x400 with 1 Axes>"
      ]
     },
     "metadata": {},
     "output_type": "display_data"
    }
   ],
   "source": [
    "# Here's an attempt to graph the weights of the prediction and actual, but it didnt exactly turn out well\n",
    "x = red_wine['quality']\n",
    "y = model.predict(red_wine.drop(columns = 'quality'))\n",
    "\n",
    "plt.figure(dpi=100)\n",
    "plt.plot(x, y, 'k')\n",
    "plt.xlabel(\"Input: x\")\n",
    "plt.ylabel(\"Target y\")\n",
    "w, b = model.weights # you could also use model.get_weights() here\n",
    "plt.title(\"Weight: {:0.2f}\\nBias: {:0.2f}\".format(w[0][0], b[0]))\n",
    "plt.show()"
   ]
  },
  {
   "cell_type": "code",
   "execution_count": 9,
   "metadata": {},
   "outputs": [
    {
     "data": {
      "image/png": "[encoded data removed]",
      "text/plain": [
       "<Figure size 600x400 with 1 Axes>"
      ]
     },
     "metadata": {},
     "output_type": "display_data"
    }
   ],
   "source": [
    "# This one shows hohw weights change the regression line in a simple linear deep learning model\n",
    "model = keras.Sequential([\n",
    "    layers.Dense(1, input_shape=[1]),\n",
    "])\n",
    "\n",
    "x = tf.linspace(-1.0, 1.0, 100)\n",
    "y = model.predict(x)\n",
    "\n",
    "plt.figure(dpi=100)\n",
    "plt.plot(x, y, 'k')\n",
    "plt.xlim(-1, 1)\n",
    "plt.ylim(-1, 1)\n",
    "plt.xlabel(\"Input: x\")\n",
    "plt.ylabel(\"Target y\")\n",
    "w, b = model.weights # you could also use model.get_weights() here\n",
    "plt.title(\"Weight: {:0.2f}\\nBias: {:0.2f}\".format(w[0][0], b[0]))\n",
    "plt.show()"
   ]
  },
  {
   "cell_type": "markdown",
   "metadata": {},
   "source": [
    "## Deep Neural Networks"
   ]
  },
  {
   "cell_type": "code",
   "execution_count": 10,
   "metadata": {},
   "outputs": [
    {
     "data": {
      "text/html": [
       "<div>\n",
       "<style scoped>\n",
       "    .dataframe tbody tr th:only-of-type {\n",
       "        vertical-align: middle;\n",
       "    }\n",
       "\n",
       "    .dataframe tbody tr th {\n",
       "        vertical-align: top;\n",
       "    }\n",
       "\n",
       "    .dataframe thead th {\n",
       "        text-align: right;\n",
       "    }\n",
       "</style>\n",
       "<table border=\"1\" class=\"dataframe\">\n",
       "  <thead>\n",
       "    <tr style=\"text-align: right;\">\n",
       "      <th></th>\n",
       "      <th>Cement</th>\n",
       "      <th>BlastFurnaceSlag</th>\n",
       "      <th>FlyAsh</th>\n",
       "      <th>Water</th>\n",
       "      <th>Superplasticizer</th>\n",
       "      <th>CoarseAggregate</th>\n",
       "      <th>FineAggregate</th>\n",
       "      <th>Age</th>\n",
       "      <th>CompressiveStrength</th>\n",
       "    </tr>\n",
       "  </thead>\n",
       "  <tbody>\n",
       "    <tr>\n",
       "      <th>0</th>\n",
       "      <td>540.0</td>\n",
       "      <td>0.0</td>\n",
       "      <td>0.0</td>\n",
       "      <td>162.0</td>\n",
       "      <td>2.5</td>\n",
       "      <td>1040.0</td>\n",
       "      <td>676.0</td>\n",
       "      <td>28</td>\n",
       "      <td>79.99</td>\n",
       "    </tr>\n",
       "    <tr>\n",
       "      <th>1</th>\n",
       "      <td>540.0</td>\n",
       "      <td>0.0</td>\n",
       "      <td>0.0</td>\n",
       "      <td>162.0</td>\n",
       "      <td>2.5</td>\n",
       "      <td>1055.0</td>\n",
       "      <td>676.0</td>\n",
       "      <td>28</td>\n",
       "      <td>61.89</td>\n",
       "    </tr>\n",
       "    <tr>\n",
       "      <th>2</th>\n",
       "      <td>332.5</td>\n",
       "      <td>142.5</td>\n",
       "      <td>0.0</td>\n",
       "      <td>228.0</td>\n",
       "      <td>0.0</td>\n",
       "      <td>932.0</td>\n",
       "      <td>594.0</td>\n",
       "      <td>270</td>\n",
       "      <td>40.27</td>\n",
       "    </tr>\n",
       "    <tr>\n",
       "      <th>3</th>\n",
       "      <td>332.5</td>\n",
       "      <td>142.5</td>\n",
       "      <td>0.0</td>\n",
       "      <td>228.0</td>\n",
       "      <td>0.0</td>\n",
       "      <td>932.0</td>\n",
       "      <td>594.0</td>\n",
       "      <td>365</td>\n",
       "      <td>41.05</td>\n",
       "    </tr>\n",
       "    <tr>\n",
       "      <th>4</th>\n",
       "      <td>198.6</td>\n",
       "      <td>132.4</td>\n",
       "      <td>0.0</td>\n",
       "      <td>192.0</td>\n",
       "      <td>0.0</td>\n",
       "      <td>978.4</td>\n",
       "      <td>825.5</td>\n",
       "      <td>360</td>\n",
       "      <td>44.30</td>\n",
       "    </tr>\n",
       "  </tbody>\n",
       "</table>\n",
       "</div>"
      ],
      "text/plain": [
       "   Cement  BlastFurnaceSlag  FlyAsh  Water  Superplasticizer  CoarseAggregate  \\\n",
       "0   540.0               0.0     0.0  162.0               2.5           1040.0   \n",
       "1   540.0               0.0     0.0  162.0               2.5           1055.0   \n",
       "2   332.5             142.5     0.0  228.0               0.0            932.0   \n",
       "3   332.5             142.5     0.0  228.0               0.0            932.0   \n",
       "4   198.6             132.4     0.0  192.0               0.0            978.4   \n",
       "\n",
       "   FineAggregate  Age  CompressiveStrength  \n",
       "0          676.0   28                79.99  \n",
       "1          676.0   28                61.89  \n",
       "2          594.0  270                40.27  \n",
       "3          594.0  365                41.05  \n",
       "4          825.5  360                44.30  "
      ]
     },
     "execution_count": 10,
     "metadata": {},
     "output_type": "execute_result"
    }
   ],
   "source": [
    "concrete = pd.read_csv('archive/concrete.csv')\n",
    "concrete.head()"
   ]
  },
  {
   "cell_type": "code",
   "execution_count": 11,
   "metadata": {},
   "outputs": [
    {
     "data": {
      "text/plain": [
       "(1030, 9)"
      ]
     },
     "execution_count": 11,
     "metadata": {},
     "output_type": "execute_result"
    }
   ],
   "source": [
    "concrete.shape"
   ]
  },
  {
   "cell_type": "markdown",
   "metadata": {},
   "source": [
    "### 1. Calculate input shape. ```CompressiveStrength``` is the target variable."
   ]
  },
  {
   "cell_type": "code",
   "execution_count": 12,
   "metadata": {},
   "outputs": [],
   "source": [
    "input_shape = [concrete.shape[1]-1]"
   ]
  },
  {
   "cell_type": "markdown",
   "metadata": {},
   "source": [
    "### 2. Define a Model with Hidden Layers. Each one has 512 units, one output with no activation. Input shape as an argument to the first layer. \n"
   ]
  },
  {
   "cell_type": "code",
   "execution_count": 13,
   "metadata": {},
   "outputs": [],
   "source": [
    "model = keras.Sequential([\n",
    "    #hidden layers\n",
    "    layers.Dense(512, activation='relu', input_shape=input_shape),\n",
    "    layers.Dense(512, activation='relu'),\n",
    "    layers.Dense(512, activation='relu'),\n",
    "    #output layer\n",
    "    layers.Dense(1)\n",
    "])"
   ]
  },
  {
   "cell_type": "markdown",
   "metadata": {},
   "source": [
    "### 3. Activation Layers. Refactor activation argument as its own layer"
   ]
  },
  {
   "cell_type": "code",
   "execution_count": 14,
   "metadata": {},
   "outputs": [],
   "source": [
    "model = keras.Sequential([\n",
    "    # inital layer\n",
    "    layers.Dense(512, input_shape=[8]),\n",
    "    #activation layer\n",
    "    layers.Activation('relu'),\n",
    "    layers.Dense(512),\n",
    "    layers.Activation('relu'),\n",
    "    #output layer\n",
    "    layers.Dense(1),\n",
    "])"
   ]
  },
  {
   "cell_type": "markdown",
   "metadata": {},
   "source": [
    "### Try with something other than -relu"
   ]
  },
  {
   "cell_type": "code",
   "execution_count": 15,
   "metadata": {},
   "outputs": [],
   "source": [
    "def viz_activation(activation = 'relu'):\n",
    "    activation_layer = layers.Activation(activation)\n",
    "    x = tf.linspace(-3.0, 3.0, 100)\n",
    "    y = activation_layer(x) # once created, a layer is callable just like a function\n",
    "    plt.figure(dpi=100)\n",
    "    plt.plot(x, y)\n",
    "    plt.xlim(-3, 3)\n",
    "    plt.xlabel(\"Input\")\n",
    "    plt.ylabel(\"Output\")\n",
    "    return plt.show()"
   ]
  },
  {
   "cell_type": "code",
   "execution_count": 16,
   "metadata": {},
   "outputs": [
    {
     "data": {
      "image/png": "[encoded data removed]",
      "text/plain": [
       "<Figure size 600x400 with 1 Axes>"
      ]
     },
     "metadata": {},
     "output_type": "display_data"
    }
   ],
   "source": [
    "viz_activation()"
   ]
  },
  {
   "cell_type": "code",
   "execution_count": 17,
   "metadata": {},
   "outputs": [
    {
     "data": {
      "image/png": "[encoded data removed]",
      "text/plain": [
       "<Figure size 600x400 with 1 Axes>"
      ]
     },
     "metadata": {},
     "output_type": "display_data"
    }
   ],
   "source": [
    "viz_activation('elu')"
   ]
  },
  {
   "cell_type": "code",
   "execution_count": 18,
   "metadata": {},
   "outputs": [
    {
     "data": {
      "image/png": "[encoded data removed]",
      "text/plain": [
       "<Figure size 600x400 with 1 Axes>"
      ]
     },
     "metadata": {},
     "output_type": "display_data"
    }
   ],
   "source": [
    "viz_activation('sigmoid')"
   ]
  },
  {
   "cell_type": "markdown",
   "metadata": {},
   "source": [
    "## Stochastic Gradient Descent"
   ]
  },
  {
   "cell_type": "markdown",
   "metadata": {},
   "source": [
    "Stochastic Gradient Descent is how deep learning models are trained. It uses a loss function and an optimizer to find the weights that best fit the dataset"
   ]
  },
  {
   "cell_type": "code",
   "execution_count": 19,
   "metadata": {},
   "outputs": [],
   "source": [
    "fuel = pd.read_csv('archive/fuel.csv')"
   ]
  },
  {
   "cell_type": "code",
   "execution_count": 20,
   "metadata": {},
   "outputs": [],
   "source": [
    "X = fuel.copy()"
   ]
  },
  {
   "cell_type": "code",
   "execution_count": 21,
   "metadata": {},
   "outputs": [],
   "source": [
    "y = fuel.pop('FE')"
   ]
  },
  {
   "cell_type": "code",
   "execution_count": 22,
   "metadata": {},
   "outputs": [],
   "source": [
    "preprocessor = make_column_transformer(\n",
    "    (StandardScaler(),\n",
    "     make_column_selector(dtype_include=np.number)),\n",
    "    (OneHotEncoder(sparse=False),\n",
    "     make_column_selector(dtype_include=object)),\n",
    ")"
   ]
  },
  {
   "cell_type": "code",
   "execution_count": 23,
   "metadata": {},
   "outputs": [],
   "source": [
    "X = preprocessor.fit_transform(X)\n",
    "y = np.asarray(np.log(y))"
   ]
  },
  {
   "cell_type": "code",
   "execution_count": 24,
   "metadata": {},
   "outputs": [
    {
     "name": "stdout",
     "output_type": "stream",
     "text": [
      "Input shape: [51]\n"
     ]
    }
   ],
   "source": [
    "input_shape = [X.shape[1]]\n",
    "print(\"Input shape: {}\".format(input_shape))"
   ]
  },
  {
   "cell_type": "code",
   "execution_count": 25,
   "metadata": {},
   "outputs": [
    {
     "data": {
      "text/html": [
       "<div>\n",
       "<style scoped>\n",
       "    .dataframe tbody tr th:only-of-type {\n",
       "        vertical-align: middle;\n",
       "    }\n",
       "\n",
       "    .dataframe tbody tr th {\n",
       "        vertical-align: top;\n",
       "    }\n",
       "\n",
       "    .dataframe thead th {\n",
       "        text-align: right;\n",
       "    }\n",
       "</style>\n",
       "<table border=\"1\" class=\"dataframe\">\n",
       "  <thead>\n",
       "    <tr style=\"text-align: right;\">\n",
       "      <th></th>\n",
       "      <th>EngDispl</th>\n",
       "      <th>NumCyl</th>\n",
       "      <th>Transmission</th>\n",
       "      <th>AirAspirationMethod</th>\n",
       "      <th>NumGears</th>\n",
       "      <th>TransLockup</th>\n",
       "      <th>TransCreeperGear</th>\n",
       "      <th>DriveDesc</th>\n",
       "      <th>IntakeValvePerCyl</th>\n",
       "      <th>ExhaustValvesPerCyl</th>\n",
       "      <th>CarlineClassDesc</th>\n",
       "      <th>VarValveTiming</th>\n",
       "      <th>VarValveLift</th>\n",
       "    </tr>\n",
       "  </thead>\n",
       "  <tbody>\n",
       "    <tr>\n",
       "      <th>0</th>\n",
       "      <td>4.7</td>\n",
       "      <td>8</td>\n",
       "      <td>AM6</td>\n",
       "      <td>NaturallyAspirated</td>\n",
       "      <td>6</td>\n",
       "      <td>1</td>\n",
       "      <td>0</td>\n",
       "      <td>TwoWheelDriveRear</td>\n",
       "      <td>2</td>\n",
       "      <td>2</td>\n",
       "      <td>2Seaters</td>\n",
       "      <td>1</td>\n",
       "      <td>0</td>\n",
       "    </tr>\n",
       "    <tr>\n",
       "      <th>1</th>\n",
       "      <td>4.7</td>\n",
       "      <td>8</td>\n",
       "      <td>M6</td>\n",
       "      <td>NaturallyAspirated</td>\n",
       "      <td>6</td>\n",
       "      <td>1</td>\n",
       "      <td>0</td>\n",
       "      <td>TwoWheelDriveRear</td>\n",
       "      <td>2</td>\n",
       "      <td>2</td>\n",
       "      <td>2Seaters</td>\n",
       "      <td>1</td>\n",
       "      <td>0</td>\n",
       "    </tr>\n",
       "    <tr>\n",
       "      <th>2</th>\n",
       "      <td>4.2</td>\n",
       "      <td>8</td>\n",
       "      <td>M6</td>\n",
       "      <td>NaturallyAspirated</td>\n",
       "      <td>6</td>\n",
       "      <td>1</td>\n",
       "      <td>0</td>\n",
       "      <td>AllWheelDrive</td>\n",
       "      <td>2</td>\n",
       "      <td>2</td>\n",
       "      <td>2Seaters</td>\n",
       "      <td>1</td>\n",
       "      <td>0</td>\n",
       "    </tr>\n",
       "    <tr>\n",
       "      <th>3</th>\n",
       "      <td>4.2</td>\n",
       "      <td>8</td>\n",
       "      <td>AM6</td>\n",
       "      <td>NaturallyAspirated</td>\n",
       "      <td>6</td>\n",
       "      <td>1</td>\n",
       "      <td>0</td>\n",
       "      <td>AllWheelDrive</td>\n",
       "      <td>2</td>\n",
       "      <td>2</td>\n",
       "      <td>2Seaters</td>\n",
       "      <td>1</td>\n",
       "      <td>0</td>\n",
       "    </tr>\n",
       "    <tr>\n",
       "      <th>4</th>\n",
       "      <td>5.2</td>\n",
       "      <td>10</td>\n",
       "      <td>AM6</td>\n",
       "      <td>NaturallyAspirated</td>\n",
       "      <td>6</td>\n",
       "      <td>0</td>\n",
       "      <td>0</td>\n",
       "      <td>AllWheelDrive</td>\n",
       "      <td>2</td>\n",
       "      <td>2</td>\n",
       "      <td>2Seaters</td>\n",
       "      <td>1</td>\n",
       "      <td>0</td>\n",
       "    </tr>\n",
       "  </tbody>\n",
       "</table>\n",
       "</div>"
      ],
      "text/plain": [
       "   EngDispl  NumCyl Transmission AirAspirationMethod  NumGears  TransLockup  \\\n",
       "0       4.7       8          AM6  NaturallyAspirated         6            1   \n",
       "1       4.7       8           M6  NaturallyAspirated         6            1   \n",
       "2       4.2       8           M6  NaturallyAspirated         6            1   \n",
       "3       4.2       8          AM6  NaturallyAspirated         6            1   \n",
       "4       5.2      10          AM6  NaturallyAspirated         6            0   \n",
       "\n",
       "   TransCreeperGear          DriveDesc  IntakeValvePerCyl  \\\n",
       "0                 0  TwoWheelDriveRear                  2   \n",
       "1                 0  TwoWheelDriveRear                  2   \n",
       "2                 0      AllWheelDrive                  2   \n",
       "3                 0      AllWheelDrive                  2   \n",
       "4                 0      AllWheelDrive                  2   \n",
       "\n",
       "   ExhaustValvesPerCyl CarlineClassDesc  VarValveTiming  VarValveLift  \n",
       "0                    2         2Seaters               1             0  \n",
       "1                    2         2Seaters               1             0  \n",
       "2                    2         2Seaters               1             0  \n",
       "3                    2         2Seaters               1             0  \n",
       "4                    2         2Seaters               1             0  "
      ]
     },
     "execution_count": 25,
     "metadata": {},
     "output_type": "execute_result"
    }
   ],
   "source": [
    "fuel.head()"
   ]
  },
  {
   "cell_type": "code",
   "execution_count": 26,
   "metadata": {},
   "outputs": [
    {
     "data": {
      "text/html": [
       "<div>\n",
       "<style scoped>\n",
       "    .dataframe tbody tr th:only-of-type {\n",
       "        vertical-align: middle;\n",
       "    }\n",
       "\n",
       "    .dataframe tbody tr th {\n",
       "        vertical-align: top;\n",
       "    }\n",
       "\n",
       "    .dataframe thead th {\n",
       "        text-align: right;\n",
       "    }\n",
       "</style>\n",
       "<table border=\"1\" class=\"dataframe\">\n",
       "  <thead>\n",
       "    <tr style=\"text-align: right;\">\n",
       "      <th></th>\n",
       "      <th>0</th>\n",
       "      <th>1</th>\n",
       "      <th>2</th>\n",
       "      <th>3</th>\n",
       "      <th>4</th>\n",
       "      <th>5</th>\n",
       "      <th>6</th>\n",
       "      <th>7</th>\n",
       "      <th>8</th>\n",
       "      <th>9</th>\n",
       "      <th>...</th>\n",
       "      <th>41</th>\n",
       "      <th>42</th>\n",
       "      <th>43</th>\n",
       "      <th>44</th>\n",
       "      <th>45</th>\n",
       "      <th>46</th>\n",
       "      <th>47</th>\n",
       "      <th>48</th>\n",
       "      <th>49</th>\n",
       "      <th>50</th>\n",
       "    </tr>\n",
       "  </thead>\n",
       "  <tbody>\n",
       "    <tr>\n",
       "      <th>0</th>\n",
       "      <td>0.913643</td>\n",
       "      <td>1.068005</td>\n",
       "      <td>-0.892196</td>\n",
       "      <td>0.524148</td>\n",
       "      <td>0.685653</td>\n",
       "      <td>-0.226455</td>\n",
       "      <td>0.391659</td>\n",
       "      <td>0.43492</td>\n",
       "      <td>0.463841</td>\n",
       "      <td>-0.447941</td>\n",
       "      <td>...</td>\n",
       "      <td>0.0</td>\n",
       "      <td>0.0</td>\n",
       "      <td>0.0</td>\n",
       "      <td>0.0</td>\n",
       "      <td>0.0</td>\n",
       "      <td>0.0</td>\n",
       "      <td>0.0</td>\n",
       "      <td>0.0</td>\n",
       "      <td>0.0</td>\n",
       "      <td>0.0</td>\n",
       "    </tr>\n",
       "    <tr>\n",
       "      <th>1</th>\n",
       "      <td>0.913643</td>\n",
       "      <td>1.068005</td>\n",
       "      <td>-1.213812</td>\n",
       "      <td>0.524148</td>\n",
       "      <td>0.685653</td>\n",
       "      <td>-0.226455</td>\n",
       "      <td>0.391659</td>\n",
       "      <td>0.43492</td>\n",
       "      <td>0.463841</td>\n",
       "      <td>-0.447941</td>\n",
       "      <td>...</td>\n",
       "      <td>0.0</td>\n",
       "      <td>0.0</td>\n",
       "      <td>0.0</td>\n",
       "      <td>0.0</td>\n",
       "      <td>0.0</td>\n",
       "      <td>0.0</td>\n",
       "      <td>0.0</td>\n",
       "      <td>0.0</td>\n",
       "      <td>0.0</td>\n",
       "      <td>0.0</td>\n",
       "    </tr>\n",
       "    <tr>\n",
       "      <th>2</th>\n",
       "      <td>0.530594</td>\n",
       "      <td>1.068005</td>\n",
       "      <td>-1.054952</td>\n",
       "      <td>0.524148</td>\n",
       "      <td>0.685653</td>\n",
       "      <td>-0.226455</td>\n",
       "      <td>0.391659</td>\n",
       "      <td>0.43492</td>\n",
       "      <td>0.463841</td>\n",
       "      <td>-0.447941</td>\n",
       "      <td>...</td>\n",
       "      <td>0.0</td>\n",
       "      <td>0.0</td>\n",
       "      <td>0.0</td>\n",
       "      <td>0.0</td>\n",
       "      <td>0.0</td>\n",
       "      <td>0.0</td>\n",
       "      <td>0.0</td>\n",
       "      <td>0.0</td>\n",
       "      <td>0.0</td>\n",
       "      <td>0.0</td>\n",
       "    </tr>\n",
       "    <tr>\n",
       "      <th>3</th>\n",
       "      <td>0.530594</td>\n",
       "      <td>1.068005</td>\n",
       "      <td>-1.289106</td>\n",
       "      <td>0.524148</td>\n",
       "      <td>0.685653</td>\n",
       "      <td>-0.226455</td>\n",
       "      <td>0.391659</td>\n",
       "      <td>0.43492</td>\n",
       "      <td>0.463841</td>\n",
       "      <td>-0.447941</td>\n",
       "      <td>...</td>\n",
       "      <td>0.0</td>\n",
       "      <td>0.0</td>\n",
       "      <td>0.0</td>\n",
       "      <td>0.0</td>\n",
       "      <td>0.0</td>\n",
       "      <td>0.0</td>\n",
       "      <td>0.0</td>\n",
       "      <td>0.0</td>\n",
       "      <td>0.0</td>\n",
       "      <td>0.0</td>\n",
       "    </tr>\n",
       "    <tr>\n",
       "      <th>4</th>\n",
       "      <td>1.296693</td>\n",
       "      <td>2.120794</td>\n",
       "      <td>-1.321809</td>\n",
       "      <td>0.524148</td>\n",
       "      <td>-1.458464</td>\n",
       "      <td>-0.226455</td>\n",
       "      <td>0.391659</td>\n",
       "      <td>0.43492</td>\n",
       "      <td>0.463841</td>\n",
       "      <td>-0.447941</td>\n",
       "      <td>...</td>\n",
       "      <td>0.0</td>\n",
       "      <td>0.0</td>\n",
       "      <td>0.0</td>\n",
       "      <td>0.0</td>\n",
       "      <td>0.0</td>\n",
       "      <td>0.0</td>\n",
       "      <td>0.0</td>\n",
       "      <td>0.0</td>\n",
       "      <td>0.0</td>\n",
       "      <td>0.0</td>\n",
       "    </tr>\n",
       "  </tbody>\n",
       "</table>\n",
       "<p>5 rows × 51 columns</p>\n",
       "</div>"
      ],
      "text/plain": [
       "         0         1         2         3         4         5         6   \\\n",
       "0  0.913643  1.068005 -0.892196  0.524148  0.685653 -0.226455  0.391659   \n",
       "1  0.913643  1.068005 -1.213812  0.524148  0.685653 -0.226455  0.391659   \n",
       "2  0.530594  1.068005 -1.054952  0.524148  0.685653 -0.226455  0.391659   \n",
       "3  0.530594  1.068005 -1.289106  0.524148  0.685653 -0.226455  0.391659   \n",
       "4  1.296693  2.120794 -1.321809  0.524148 -1.458464 -0.226455  0.391659   \n",
       "\n",
       "        7         8         9   ...   41   42   43   44   45   46   47   48  \\\n",
       "0  0.43492  0.463841 -0.447941  ...  0.0  0.0  0.0  0.0  0.0  0.0  0.0  0.0   \n",
       "1  0.43492  0.463841 -0.447941  ...  0.0  0.0  0.0  0.0  0.0  0.0  0.0  0.0   \n",
       "2  0.43492  0.463841 -0.447941  ...  0.0  0.0  0.0  0.0  0.0  0.0  0.0  0.0   \n",
       "3  0.43492  0.463841 -0.447941  ...  0.0  0.0  0.0  0.0  0.0  0.0  0.0  0.0   \n",
       "4  0.43492  0.463841 -0.447941  ...  0.0  0.0  0.0  0.0  0.0  0.0  0.0  0.0   \n",
       "\n",
       "    49   50  \n",
       "0  0.0  0.0  \n",
       "1  0.0  0.0  \n",
       "2  0.0  0.0  \n",
       "3  0.0  0.0  \n",
       "4  0.0  0.0  \n",
       "\n",
       "[5 rows x 51 columns]"
      ]
     },
     "execution_count": 26,
     "metadata": {},
     "output_type": "execute_result"
    }
   ],
   "source": [
    "pd.DataFrame(X[:10,:]).head()"
   ]
  },
  {
   "cell_type": "code",
   "execution_count": 27,
   "metadata": {},
   "outputs": [],
   "source": [
    "model = keras.Sequential([\n",
    "    layers.Dense(128, activation='relu', input_shape=input_shape),\n",
    "    layers.Dense(128, activation='relu'),    \n",
    "    layers.Dense(64, activation='relu'),\n",
    "    layers.Dense(1),\n",
    "])"
   ]
  },
  {
   "cell_type": "markdown",
   "metadata": {},
   "source": [
    "### 1. Add Loss and Optimizer\n",
    "use adam optimizer and mean average error loss"
   ]
  },
  {
   "cell_type": "code",
   "execution_count": 28,
   "metadata": {},
   "outputs": [],
   "source": [
    "model.compile(optimizer=\"adam\",loss=\"mae\")"
   ]
  },
  {
   "cell_type": "markdown",
   "metadata": {},
   "source": [
    "### 2. Train Model\n",
    "Train the network for 200 epochs with a batch size of 128. The input data is `X` with target `y`."
   ]
  },
  {
   "cell_type": "code",
   "execution_count": 29,
   "metadata": {},
   "outputs": [
    {
     "name": "stdout",
     "output_type": "stream",
     "text": [
      "Train on 1107 samples\n",
      "Epoch 1/200\n",
      "1107/1107 [==============================] - 1s 563us/sample - loss: 2.8676\n",
      "Epoch 2/200\n",
      "1107/1107 [==============================] - 0s 46us/sample - loss: 1.0986\n",
      "Epoch 3/200\n",
      "1107/1107 [==============================] - 0s 46us/sample - loss: 0.6097\n",
      "Epoch 4/200\n",
      "1107/1107 [==============================] - 0s 45us/sample - loss: 0.3693\n",
      "Epoch 5/200\n",
      "1107/1107 [==============================] - 0s 44us/sample - loss: 0.2628\n",
      "Epoch 6/200\n",
      "1107/1107 [==============================] - 0s 44us/sample - loss: 0.1933\n",
      "Epoch 7/200\n",
      "1107/1107 [==============================] - 0s 45us/sample - loss: 0.1495\n",
      "Epoch 8/200\n",
      "1107/1107 [==============================] - 0s 45us/sample - loss: 0.1263\n",
      "Epoch 9/200\n",
      "1107/1107 [==============================] - 0s 44us/sample - loss: 0.1039\n",
      "Epoch 10/200\n",
      "1107/1107 [==============================] - 0s 45us/sample - loss: 0.0849\n",
      "Epoch 11/200\n",
      "1107/1107 [==============================] - 0s 49us/sample - loss: 0.0719\n",
      "Epoch 12/200\n",
      "1107/1107 [==============================] - 0s 55us/sample - loss: 0.0632\n",
      "Epoch 13/200\n",
      "1107/1107 [==============================] - 0s 46us/sample - loss: 0.0582\n",
      "Epoch 14/200\n",
      "1107/1107 [==============================] - 0s 45us/sample - loss: 0.0523\n",
      "Epoch 15/200\n",
      "1107/1107 [==============================] - 0s 47us/sample - loss: 0.0539\n",
      "Epoch 16/200\n",
      "1107/1107 [==============================] - 0s 45us/sample - loss: 0.0470\n",
      "Epoch 17/200\n",
      "1107/1107 [==============================] - 0s 44us/sample - loss: 0.0423\n",
      "Epoch 18/200\n",
      "1107/1107 [==============================] - 0s 44us/sample - loss: 0.0424\n",
      "Epoch 19/200\n",
      "1107/1107 [==============================] - 0s 45us/sample - loss: 0.0368\n",
      "Epoch 20/200\n",
      "1107/1107 [==============================] - 0s 44us/sample - loss: 0.0355\n",
      "Epoch 21/200\n",
      "1107/1107 [==============================] - 0s 44us/sample - loss: 0.0347\n",
      "Epoch 22/200\n",
      "1107/1107 [==============================] - 0s 44us/sample - loss: 0.0338\n",
      "Epoch 23/200\n",
      "1107/1107 [==============================] - 0s 44us/sample - loss: 0.0339\n",
      "Epoch 24/200\n",
      "1107/1107 [==============================] - 0s 42us/sample - loss: 0.0339\n",
      "Epoch 25/200\n",
      "1107/1107 [==============================] - 0s 48us/sample - loss: 0.0398\n",
      "Epoch 26/200\n",
      "1107/1107 [==============================] - 0s 44us/sample - loss: 0.0363\n",
      "Epoch 27/200\n",
      "1107/1107 [==============================] - 0s 45us/sample - loss: 0.0338\n",
      "Epoch 28/200\n",
      "1107/1107 [==============================] - 0s 45us/sample - loss: 0.0287\n",
      "Epoch 29/200\n",
      "1107/1107 [==============================] - 0s 44us/sample - loss: 0.0280\n",
      "Epoch 30/200\n",
      "1107/1107 [==============================] - 0s 45us/sample - loss: 0.0312\n",
      "Epoch 31/200\n",
      "1107/1107 [==============================] - 0s 46us/sample - loss: 0.0278\n",
      "Epoch 32/200\n",
      "1107/1107 [==============================] - 0s 45us/sample - loss: 0.0285\n",
      "Epoch 33/200\n",
      "1107/1107 [==============================] - 0s 44us/sample - loss: 0.0347\n",
      "Epoch 34/200\n",
      "1107/1107 [==============================] - 0s 47us/sample - loss: 0.0342\n",
      "Epoch 35/200\n",
      "1107/1107 [==============================] - 0s 47us/sample - loss: 0.0464\n",
      "Epoch 36/200\n",
      "1107/1107 [==============================] - 0s 50us/sample - loss: 0.0305\n",
      "Epoch 37/200\n",
      "1107/1107 [==============================] - 0s 51us/sample - loss: 0.0279\n",
      "Epoch 38/200\n",
      "1107/1107 [==============================] - 0s 48us/sample - loss: 0.0253\n",
      "Epoch 39/200\n",
      "1107/1107 [==============================] - 0s 52us/sample - loss: 0.0241\n",
      "Epoch 40/200\n",
      "1107/1107 [==============================] - 0s 45us/sample - loss: 0.0237\n",
      "Epoch 41/200\n",
      "1107/1107 [==============================] - 0s 47us/sample - loss: 0.0211\n",
      "Epoch 42/200\n",
      "1107/1107 [==============================] - 0s 50us/sample - loss: 0.0215\n",
      "Epoch 43/200\n",
      "1107/1107 [==============================] - 0s 43us/sample - loss: 0.0280\n",
      "Epoch 44/200\n",
      "1107/1107 [==============================] - 0s 46us/sample - loss: 0.0247\n",
      "Epoch 45/200\n",
      "1107/1107 [==============================] - 0s 49us/sample - loss: 0.0236\n",
      "Epoch 46/200\n",
      "1107/1107 [==============================] - 0s 45us/sample - loss: 0.0236\n",
      "Epoch 47/200\n",
      "1107/1107 [==============================] - 0s 46us/sample - loss: 0.0219\n",
      "Epoch 48/200\n",
      "1107/1107 [==============================] - 0s 50us/sample - loss: 0.0297\n",
      "Epoch 49/200\n",
      "1107/1107 [==============================] - 0s 49us/sample - loss: 0.0397\n",
      "Epoch 50/200\n",
      "1107/1107 [==============================] - 0s 51us/sample - loss: 0.0262\n",
      "Epoch 51/200\n",
      "1107/1107 [==============================] - 0s 46us/sample - loss: 0.0266\n",
      "Epoch 52/200\n",
      "1107/1107 [==============================] - 0s 45us/sample - loss: 0.0238\n",
      "Epoch 53/200\n",
      "1107/1107 [==============================] - 0s 48us/sample - loss: 0.0233\n",
      "Epoch 54/200\n",
      "1107/1107 [==============================] - 0s 46us/sample - loss: 0.0202\n",
      "Epoch 55/200\n",
      "1107/1107 [==============================] - 0s 46us/sample - loss: 0.0203\n",
      "Epoch 56/200\n",
      "1107/1107 [==============================] - 0s 47us/sample - loss: 0.0199\n",
      "Epoch 57/200\n",
      "1107/1107 [==============================] - 0s 50us/sample - loss: 0.0248\n",
      "Epoch 58/200\n",
      "1107/1107 [==============================] - 0s 45us/sample - loss: 0.0273\n",
      "Epoch 59/200\n",
      "1107/1107 [==============================] - 0s 50us/sample - loss: 0.0423\n",
      "Epoch 60/200\n",
      "1107/1107 [==============================] - 0s 53us/sample - loss: 0.0356\n",
      "Epoch 61/200\n",
      "1107/1107 [==============================] - 0s 47us/sample - loss: 0.0270\n",
      "Epoch 62/200\n",
      "1107/1107 [==============================] - 0s 46us/sample - loss: 0.0241\n",
      "Epoch 63/200\n",
      "1107/1107 [==============================] - 0s 45us/sample - loss: 0.0234\n",
      "Epoch 64/200\n",
      "1107/1107 [==============================] - 0s 45us/sample - loss: 0.0262\n",
      "Epoch 65/200\n",
      "1107/1107 [==============================] - 0s 43us/sample - loss: 0.0335\n",
      "Epoch 66/200\n",
      "1107/1107 [==============================] - 0s 42us/sample - loss: 0.0445\n",
      "Epoch 67/200\n",
      "1107/1107 [==============================] - 0s 44us/sample - loss: 0.0410\n",
      "Epoch 68/200\n",
      "1107/1107 [==============================] - 0s 45us/sample - loss: 0.0388\n",
      "Epoch 69/200\n",
      "1107/1107 [==============================] - 0s 45us/sample - loss: 0.0385\n",
      "Epoch 70/200\n",
      "1107/1107 [==============================] - 0s 45us/sample - loss: 0.0279\n",
      "Epoch 71/200\n",
      "1107/1107 [==============================] - 0s 44us/sample - loss: 0.0340\n",
      "Epoch 72/200\n",
      "1107/1107 [==============================] - 0s 44us/sample - loss: 0.0313\n",
      "Epoch 73/200\n",
      "1107/1107 [==============================] - 0s 48us/sample - loss: 0.0273\n",
      "Epoch 74/200\n",
      "1107/1107 [==============================] - 0s 47us/sample - loss: 0.0413\n",
      "Epoch 75/200\n",
      "1107/1107 [==============================] - 0s 48us/sample - loss: 0.0322\n",
      "Epoch 76/200\n",
      "1107/1107 [==============================] - 0s 43us/sample - loss: 0.0220\n",
      "Epoch 77/200\n",
      "1107/1107 [==============================] - 0s 46us/sample - loss: 0.0279\n",
      "Epoch 78/200\n",
      "1107/1107 [==============================] - 0s 45us/sample - loss: 0.0338\n",
      "Epoch 79/200\n",
      "1107/1107 [==============================] - 0s 48us/sample - loss: 0.0302\n",
      "Epoch 80/200\n",
      "1107/1107 [==============================] - 0s 43us/sample - loss: 0.0226\n",
      "Epoch 81/200\n",
      "1107/1107 [==============================] - 0s 43us/sample - loss: 0.0173\n",
      "Epoch 82/200\n",
      "1107/1107 [==============================] - 0s 48us/sample - loss: 0.0182\n",
      "Epoch 83/200\n",
      "1107/1107 [==============================] - 0s 44us/sample - loss: 0.0163\n",
      "Epoch 84/200\n",
      "1107/1107 [==============================] - 0s 46us/sample - loss: 0.0201\n",
      "Epoch 85/200\n",
      "1107/1107 [==============================] - 0s 43us/sample - loss: 0.0168\n",
      "Epoch 86/200\n",
      "1107/1107 [==============================] - 0s 43us/sample - loss: 0.0166\n",
      "Epoch 87/200\n",
      "1107/1107 [==============================] - 0s 50us/sample - loss: 0.0200\n",
      "Epoch 88/200\n",
      "1107/1107 [==============================] - 0s 43us/sample - loss: 0.0178\n",
      "Epoch 89/200\n",
      "1107/1107 [==============================] - 0s 44us/sample - loss: 0.0167\n",
      "Epoch 90/200\n",
      "1107/1107 [==============================] - 0s 46us/sample - loss: 0.0203\n",
      "Epoch 91/200\n",
      "1107/1107 [==============================] - 0s 44us/sample - loss: 0.0320\n",
      "Epoch 92/200\n",
      "1107/1107 [==============================] - 0s 48us/sample - loss: 0.0285\n",
      "Epoch 93/200\n",
      "1107/1107 [==============================] - 0s 43us/sample - loss: 0.0243\n",
      "Epoch 94/200\n",
      "1107/1107 [==============================] - 0s 45us/sample - loss: 0.0228\n",
      "Epoch 95/200\n",
      "1107/1107 [==============================] - 0s 43us/sample - loss: 0.0184\n",
      "Epoch 96/200\n",
      "1107/1107 [==============================] - 0s 44us/sample - loss: 0.0238\n",
      "Epoch 97/200\n",
      "1107/1107 [==============================] - 0s 43us/sample - loss: 0.0202\n",
      "Epoch 98/200\n",
      "1107/1107 [==============================] - 0s 42us/sample - loss: 0.0179\n",
      "Epoch 99/200\n",
      "1107/1107 [==============================] - 0s 43us/sample - loss: 0.0173\n",
      "Epoch 100/200\n",
      "1107/1107 [==============================] - 0s 42us/sample - loss: 0.0319\n",
      "Epoch 101/200\n",
      "1107/1107 [==============================] - 0s 46us/sample - loss: 0.0189\n",
      "Epoch 102/200\n",
      "1107/1107 [==============================] - 0s 47us/sample - loss: 0.0222\n",
      "Epoch 103/200\n",
      "1107/1107 [==============================] - 0s 44us/sample - loss: 0.0243\n",
      "Epoch 104/200\n",
      "1107/1107 [==============================] - 0s 49us/sample - loss: 0.0215\n",
      "Epoch 105/200\n",
      "1107/1107 [==============================] - 0s 46us/sample - loss: 0.0206\n",
      "Epoch 106/200\n",
      "1107/1107 [==============================] - 0s 45us/sample - loss: 0.0172\n",
      "Epoch 107/200\n",
      "1107/1107 [==============================] - 0s 44us/sample - loss: 0.0145\n",
      "Epoch 108/200\n",
      "1107/1107 [==============================] - 0s 45us/sample - loss: 0.0161\n",
      "Epoch 109/200\n",
      "1107/1107 [==============================] - 0s 44us/sample - loss: 0.0196\n",
      "Epoch 110/200\n",
      "1107/1107 [==============================] - 0s 44us/sample - loss: 0.0215\n",
      "Epoch 111/200\n",
      "1107/1107 [==============================] - 0s 45us/sample - loss: 0.0185\n",
      "Epoch 112/200\n",
      "1107/1107 [==============================] - 0s 46us/sample - loss: 0.0176\n",
      "Epoch 113/200\n",
      "1107/1107 [==============================] - 0s 77us/sample - loss: 0.0157\n",
      "Epoch 114/200\n",
      "1107/1107 [==============================] - 0s 71us/sample - loss: 0.0147\n",
      "Epoch 115/200\n",
      "1107/1107 [==============================] - 0s 49us/sample - loss: 0.0154\n",
      "Epoch 116/200\n",
      "1107/1107 [==============================] - 0s 42us/sample - loss: 0.0156\n",
      "Epoch 117/200\n",
      "1107/1107 [==============================] - 0s 45us/sample - loss: 0.0137\n",
      "Epoch 118/200\n",
      "1107/1107 [==============================] - 0s 43us/sample - loss: 0.0145\n",
      "Epoch 119/200\n",
      "1107/1107 [==============================] - 0s 43us/sample - loss: 0.0185\n",
      "Epoch 120/200\n",
      "1107/1107 [==============================] - 0s 44us/sample - loss: 0.0188\n",
      "Epoch 121/200\n",
      "1107/1107 [==============================] - 0s 45us/sample - loss: 0.0192\n",
      "Epoch 122/200\n",
      "1107/1107 [==============================] - 0s 44us/sample - loss: 0.0226\n",
      "Epoch 123/200\n",
      "1107/1107 [==============================] - 0s 55us/sample - loss: 0.0192\n",
      "Epoch 124/200\n",
      "1107/1107 [==============================] - 0s 59us/sample - loss: 0.0173\n",
      "Epoch 125/200\n",
      "1107/1107 [==============================] - 0s 50us/sample - loss: 0.0202\n",
      "Epoch 126/200\n",
      "1107/1107 [==============================] - 0s 43us/sample - loss: 0.0218\n",
      "Epoch 127/200\n",
      "1107/1107 [==============================] - 0s 42us/sample - loss: 0.0227\n",
      "Epoch 128/200\n",
      "1107/1107 [==============================] - 0s 43us/sample - loss: 0.0267\n",
      "Epoch 129/200\n",
      "1107/1107 [==============================] - 0s 44us/sample - loss: 0.0294\n",
      "Epoch 130/200\n",
      "1107/1107 [==============================] - 0s 42us/sample - loss: 0.0320\n",
      "Epoch 131/200\n",
      "1107/1107 [==============================] - 0s 43us/sample - loss: 0.0286\n",
      "Epoch 132/200\n",
      "1107/1107 [==============================] - 0s 45us/sample - loss: 0.0218\n",
      "Epoch 133/200\n",
      "1107/1107 [==============================] - 0s 44us/sample - loss: 0.0178\n",
      "Epoch 134/200\n",
      "1107/1107 [==============================] - 0s 51us/sample - loss: 0.0136\n",
      "Epoch 135/200\n",
      "1107/1107 [==============================] - 0s 45us/sample - loss: 0.0116\n",
      "Epoch 136/200\n",
      "1107/1107 [==============================] - 0s 42us/sample - loss: 0.0149\n",
      "Epoch 137/200\n",
      "1107/1107 [==============================] - 0s 42us/sample - loss: 0.0145\n",
      "Epoch 138/200\n",
      "1107/1107 [==============================] - 0s 42us/sample - loss: 0.0131\n",
      "Epoch 139/200\n",
      "1107/1107 [==============================] - 0s 42us/sample - loss: 0.0267\n",
      "Epoch 140/200\n",
      "1107/1107 [==============================] - 0s 41us/sample - loss: 0.0286\n",
      "Epoch 141/200\n",
      "1107/1107 [==============================] - 0s 42us/sample - loss: 0.0257\n",
      "Epoch 142/200\n",
      "1107/1107 [==============================] - 0s 45us/sample - loss: 0.0266\n",
      "Epoch 143/200\n",
      "1107/1107 [==============================] - 0s 46us/sample - loss: 0.0259\n",
      "Epoch 144/200\n",
      "1107/1107 [==============================] - 0s 45us/sample - loss: 0.0263\n",
      "Epoch 145/200\n",
      "1107/1107 [==============================] - 0s 43us/sample - loss: 0.0180\n",
      "Epoch 146/200\n",
      "1107/1107 [==============================] - 0s 50us/sample - loss: 0.0148\n",
      "Epoch 147/200\n",
      "1107/1107 [==============================] - 0s 45us/sample - loss: 0.0152\n",
      "Epoch 148/200\n",
      "1107/1107 [==============================] - 0s 51us/sample - loss: 0.0179\n",
      "Epoch 149/200\n",
      "1107/1107 [==============================] - 0s 44us/sample - loss: 0.0266\n",
      "Epoch 150/200\n",
      "1107/1107 [==============================] - 0s 50us/sample - loss: 0.0244\n",
      "Epoch 151/200\n",
      "1107/1107 [==============================] - 0s 43us/sample - loss: 0.0164\n",
      "Epoch 152/200\n",
      "1107/1107 [==============================] - 0s 44us/sample - loss: 0.0160\n",
      "Epoch 153/200\n",
      "1107/1107 [==============================] - 0s 46us/sample - loss: 0.0237\n",
      "Epoch 154/200\n",
      "1107/1107 [==============================] - 0s 47us/sample - loss: 0.0278\n",
      "Epoch 155/200\n",
      "1107/1107 [==============================] - 0s 43us/sample - loss: 0.0213\n",
      "Epoch 156/200\n",
      "1107/1107 [==============================] - 0s 45us/sample - loss: 0.0158\n",
      "Epoch 157/200\n",
      "1107/1107 [==============================] - 0s 45us/sample - loss: 0.0129\n",
      "Epoch 158/200\n",
      "1107/1107 [==============================] - 0s 42us/sample - loss: 0.0157\n",
      "Epoch 159/200\n",
      "1107/1107 [==============================] - 0s 43us/sample - loss: 0.0158\n",
      "Epoch 160/200\n",
      "1107/1107 [==============================] - 0s 43us/sample - loss: 0.0256\n",
      "Epoch 161/200\n",
      "1107/1107 [==============================] - 0s 43us/sample - loss: 0.0251\n",
      "Epoch 162/200\n",
      "1107/1107 [==============================] - 0s 42us/sample - loss: 0.0209\n",
      "Epoch 163/200\n",
      "1107/1107 [==============================] - 0s 45us/sample - loss: 0.0184\n",
      "Epoch 164/200\n",
      "1107/1107 [==============================] - 0s 44us/sample - loss: 0.0278\n",
      "Epoch 165/200\n",
      "1107/1107 [==============================] - 0s 43us/sample - loss: 0.0182\n",
      "Epoch 166/200\n",
      "1107/1107 [==============================] - 0s 42us/sample - loss: 0.0141\n",
      "Epoch 167/200\n",
      "1107/1107 [==============================] - 0s 43us/sample - loss: 0.0126\n",
      "Epoch 168/200\n",
      "1107/1107 [==============================] - 0s 41us/sample - loss: 0.0179\n",
      "Epoch 169/200\n",
      "1107/1107 [==============================] - 0s 45us/sample - loss: 0.0197\n",
      "Epoch 170/200\n",
      "1107/1107 [==============================] - 0s 46us/sample - loss: 0.0272\n",
      "Epoch 171/200\n",
      "1107/1107 [==============================] - 0s 42us/sample - loss: 0.0165\n",
      "Epoch 172/200\n",
      "1107/1107 [==============================] - 0s 44us/sample - loss: 0.0157\n",
      "Epoch 173/200\n",
      "1107/1107 [==============================] - 0s 42us/sample - loss: 0.0151\n",
      "Epoch 174/200\n",
      "1107/1107 [==============================] - 0s 50us/sample - loss: 0.0155\n",
      "Epoch 175/200\n",
      "1107/1107 [==============================] - 0s 44us/sample - loss: 0.0148\n",
      "Epoch 176/200\n",
      "1107/1107 [==============================] - 0s 45us/sample - loss: 0.0255\n",
      "Epoch 177/200\n",
      "1107/1107 [==============================] - 0s 44us/sample - loss: 0.0245\n",
      "Epoch 178/200\n",
      "1107/1107 [==============================] - 0s 42us/sample - loss: 0.0204\n",
      "Epoch 179/200\n",
      "1107/1107 [==============================] - 0s 45us/sample - loss: 0.0171\n",
      "Epoch 180/200\n",
      "1107/1107 [==============================] - 0s 43us/sample - loss: 0.0128\n",
      "Epoch 181/200\n",
      "1107/1107 [==============================] - 0s 46us/sample - loss: 0.0139\n",
      "Epoch 182/200\n",
      "1107/1107 [==============================] - 0s 44us/sample - loss: 0.0170\n",
      "Epoch 183/200\n",
      "1107/1107 [==============================] - 0s 45us/sample - loss: 0.0171\n",
      "Epoch 184/200\n",
      "1107/1107 [==============================] - 0s 43us/sample - loss: 0.0184\n",
      "Epoch 185/200\n",
      "1107/1107 [==============================] - 0s 43us/sample - loss: 0.0258\n",
      "Epoch 186/200\n",
      "1107/1107 [==============================] - 0s 44us/sample - loss: 0.0157\n",
      "Epoch 187/200\n",
      "1107/1107 [==============================] - 0s 41us/sample - loss: 0.0178\n",
      "Epoch 188/200\n",
      "1107/1107 [==============================] - 0s 43us/sample - loss: 0.0184\n",
      "Epoch 189/200\n",
      "1107/1107 [==============================] - 0s 46us/sample - loss: 0.0190\n",
      "Epoch 190/200\n",
      "1107/1107 [==============================] - 0s 46us/sample - loss: 0.0278\n",
      "Epoch 191/200\n",
      "1107/1107 [==============================] - 0s 46us/sample - loss: 0.0293\n",
      "Epoch 192/200\n",
      "1107/1107 [==============================] - 0s 42us/sample - loss: 0.0298\n",
      "Epoch 193/200\n",
      "1107/1107 [==============================] - 0s 42us/sample - loss: 0.0267\n",
      "Epoch 194/200\n",
      "1107/1107 [==============================] - 0s 42us/sample - loss: 0.0214\n",
      "Epoch 195/200\n",
      "1107/1107 [==============================] - 0s 45us/sample - loss: 0.0180\n",
      "Epoch 196/200\n",
      "1107/1107 [==============================] - 0s 50us/sample - loss: 0.0231\n",
      "Epoch 197/200\n",
      "1107/1107 [==============================] - 0s 46us/sample - loss: 0.0239\n",
      "Epoch 198/200\n",
      "1107/1107 [==============================] - 0s 50us/sample - loss: 0.0201\n",
      "Epoch 199/200\n",
      "1107/1107 [==============================] - 0s 48us/sample - loss: 0.0183\n",
      "Epoch 200/200\n",
      "1107/1107 [==============================] - 0s 48us/sample - loss: 0.0223\n"
     ]
    }
   ],
   "source": [
    "history = model.fit(\n",
    "    X,  y,\n",
    "    batch_size=128,\n",
    "    epochs= 200,\n",
    ")"
   ]
  },
  {
   "cell_type": "markdown",
   "metadata": {},
   "source": [
    "### 3. Evaluate the training\n",
    "try to look for the epoch where you stop seeing an appreciable decrease in loss rates"
   ]
  },
  {
   "cell_type": "code",
   "execution_count": 30,
   "metadata": {},
   "outputs": [
    {
     "data": {
      "image/png": "[encoded data removed]",
      "text/plain": [
       "<Figure size 432x288 with 1 Axes>"
      ]
     },
     "metadata": {},
     "output_type": "display_data"
    }
   ],
   "source": [
    "history_df = pd.DataFrame(history.history)\n",
    "# Start the plot at epoch 5. You can change this to get a different view.\n",
    "history_df.loc[5:, ['loss']].plot();"
   ]
  },
  {
   "cell_type": "code",
   "execution_count": 31,
   "metadata": {},
   "outputs": [
    {
     "data": {
      "text/html": [
       "<div>\n",
       "<style scoped>\n",
       "    .dataframe tbody tr th:only-of-type {\n",
       "        vertical-align: middle;\n",
       "    }\n",
       "\n",
       "    .dataframe tbody tr th {\n",
       "        vertical-align: top;\n",
       "    }\n",
       "\n",
       "    .dataframe thead th {\n",
       "        text-align: right;\n",
       "    }\n",
       "</style>\n",
       "<table border=\"1\" class=\"dataframe\">\n",
       "  <thead>\n",
       "    <tr style=\"text-align: right;\">\n",
       "      <th></th>\n",
       "      <th>loss</th>\n",
       "    </tr>\n",
       "  </thead>\n",
       "  <tbody>\n",
       "  </tbody>\n",
       "</table>\n",
       "</div>"
      ],
      "text/plain": [
       "Empty DataFrame\n",
       "Columns: [loss]\n",
       "Index: []"
      ]
     },
     "execution_count": 31,
     "metadata": {},
     "output_type": "execute_result"
    }
   ],
   "source": [
    "history_df[history_df['loss'] == 0.011942958418875528]"
   ]
  },
  {
   "cell_type": "markdown",
   "metadata": {},
   "source": [
    "## Overfitting and Underfitting"
   ]
  },
  {
   "cell_type": "markdown",
   "metadata": {},
   "source": [
    "Load the spotify dataset to predict the popularity of the song based on various features like ```tempo```,```danceablility```, and ```mode```"
   ]
  },
  {
   "cell_type": "code",
   "execution_count": 32,
   "metadata": {},
   "outputs": [],
   "source": [
    "spotify = pd.read_csv('archive/spotify.csv')"
   ]
  },
  {
   "cell_type": "markdown",
   "metadata": {},
   "source": [
    "### Make a shallow and narrow model"
   ]
  },
  {
   "cell_type": "code",
   "execution_count": 33,
   "metadata": {},
   "outputs": [],
   "source": [
    "X = spotify.copy().dropna()\n",
    "y = X.pop('track_popularity')\n",
    "artists = X['track_artist']"
   ]
  },
  {
   "cell_type": "code",
   "execution_count": 34,
   "metadata": {},
   "outputs": [
    {
     "name": "stdout",
     "output_type": "stream",
     "text": [
      "<class 'pandas.core.frame.DataFrame'>\n",
      "Int64Index: 32828 entries, 0 to 32832\n",
      "Data columns (total 22 columns):\n",
      " #   Column                    Non-Null Count  Dtype  \n",
      "---  ------                    --------------  -----  \n",
      " 0   track_id                  32828 non-null  object \n",
      " 1   track_name                32828 non-null  object \n",
      " 2   track_artist              32828 non-null  object \n",
      " 3   track_album_id            32828 non-null  object \n",
      " 4   track_album_name          32828 non-null  object \n",
      " 5   track_album_release_date  32828 non-null  object \n",
      " 6   playlist_name             32828 non-null  object \n",
      " 7   playlist_id               32828 non-null  object \n",
      " 8   playlist_genre            32828 non-null  object \n",
      " 9   playlist_subgenre         32828 non-null  object \n",
      " 10  danceability              32828 non-null  float64\n",
      " 11  energy                    32828 non-null  float64\n",
      " 12  key                       32828 non-null  int64  \n",
      " 13  loudness                  32828 non-null  float64\n",
      " 14  mode                      32828 non-null  int64  \n",
      " 15  speechiness               32828 non-null  float64\n",
      " 16  acousticness              32828 non-null  float64\n",
      " 17  instrumentalness          32828 non-null  float64\n",
      " 18  liveness                  32828 non-null  float64\n",
      " 19  valence                   32828 non-null  float64\n",
      " 20  tempo                     32828 non-null  float64\n",
      " 21  duration_ms               32828 non-null  int64  \n",
      "dtypes: float64(9), int64(3), object(10)\n",
      "memory usage: 5.8+ MB\n"
     ]
    }
   ],
   "source": [
    "X.info()"
   ]
  },
  {
   "cell_type": "code",
   "execution_count": 35,
   "metadata": {},
   "outputs": [],
   "source": [
    "features_num = ['danceability', 'energy', 'key', 'loudness', 'mode',\n",
    "                'speechiness', 'acousticness', 'instrumentalness',\n",
    "                'liveness', 'valence', 'tempo', 'duration_ms']\n",
    "features_cat = ['playlist_genre']"
   ]
  },
  {
   "cell_type": "code",
   "execution_count": 36,
   "metadata": {},
   "outputs": [],
   "source": [
    "preprocessor = make_column_transformer(\n",
    "    (StandardScaler(), features_num),\n",
    "    (OneHotEncoder(), features_cat),\n",
    ")"
   ]
  },
  {
   "cell_type": "code",
   "execution_count": 37,
   "metadata": {},
   "outputs": [],
   "source": [
    "def group_split(X, y, group, train_size=0.75):\n",
    "    splitter = GroupShuffleSplit(train_size=train_size)\n",
    "    train, test = next(splitter.split(X, y, groups=group))\n",
    "    return (X.iloc[train], X.iloc[test], y.iloc[train], y.iloc[test])"
   ]
  },
  {
   "cell_type": "code",
   "execution_count": 38,
   "metadata": {},
   "outputs": [],
   "source": [
    "X_train, X_valid, y_train, y_valid = group_split(X, y, artists)"
   ]
  },
  {
   "cell_type": "code",
   "execution_count": 39,
   "metadata": {},
   "outputs": [],
   "source": [
    "X_train = preprocessor.fit_transform(X_train)\n",
    "X_valid = preprocessor.transform(X_valid)\n",
    "y_train = np.asarray(y_train / 100) # popularity is on a scale 0-100, so this rescales to 0-1.\n",
    "y_valid = np.asarray(y_valid / 100)"
   ]
  },
  {
   "cell_type": "code",
   "execution_count": 40,
   "metadata": {},
   "outputs": [],
   "source": [
    "input_shape = [X_train.shape[1]]"
   ]
  },
  {
   "cell_type": "code",
   "execution_count": 41,
   "metadata": {},
   "outputs": [
    {
     "name": "stdout",
     "output_type": "stream",
     "text": [
      "Input Shape : 18\n"
     ]
    }
   ],
   "source": [
    "print(f'Input Shape : {input_shape[0]}')"
   ]
  },
  {
   "cell_type": "code",
   "execution_count": 42,
   "metadata": {},
   "outputs": [],
   "source": [
    "model = keras.Sequential([layers.Dense(1, input_shape = input_shape)])"
   ]
  },
  {
   "cell_type": "code",
   "execution_count": 43,
   "metadata": {},
   "outputs": [],
   "source": [
    "model.compile(optimizer = 'adam',loss ='mae')"
   ]
  },
  {
   "cell_type": "code",
   "execution_count": 44,
   "metadata": {},
   "outputs": [],
   "source": [
    "history = model.fit(X_train, y_train, validation_data = (X_valid, y_valid),\n",
    "                    batch_size = 512, epochs = 50, verbose = 0)"
   ]
  },
  {
   "cell_type": "code",
   "execution_count": 45,
   "metadata": {},
   "outputs": [
    {
     "name": "stdout",
     "output_type": "stream",
     "text": [
      "Minimum Validation Loss: 0.1948\n"
     ]
    },
    {
     "data": {
      "image/png": "[encoded data removed]",
      "text/plain": [
       "<Figure size 432x288 with 1 Axes>"
      ]
     },
     "metadata": {},
     "output_type": "display_data"
    }
   ],
   "source": [
    "history_df = pd.DataFrame(history.history)\n",
    "history_df.loc[0:, ['loss', 'val_loss']].plot()\n",
    "print('Minimum Validation Loss: {:0.4f}'.format(history_df['val_loss'].min()))"
   ]
  },
  {
   "cell_type": "markdown",
   "metadata": {},
   "source": [
    "- The curves are relatively close, but the value loss never increases. This indicates that the model is underfit"
   ]
  },
  {
   "cell_type": "markdown",
   "metadata": {},
   "source": [
    "### Now make it deeper and wider"
   ]
  },
  {
   "cell_type": "code",
   "execution_count": 46,
   "metadata": {},
   "outputs": [
    {
     "name": "stdout",
     "output_type": "stream",
     "text": [
      "Train on 24940 samples, validate on 7888 samples\n",
      "Epoch 1/50\n",
      "24940/24940 [==============================] - 1s 33us/sample - loss: 0.2478 - val_loss: 0.2046\n",
      "Epoch 2/50\n",
      "24940/24940 [==============================] - 0s 13us/sample - loss: 0.2029 - val_loss: 0.1981\n",
      "Epoch 3/50\n",
      "24940/24940 [==============================] - 0s 14us/sample - loss: 0.1972 - val_loss: 0.1958\n",
      "Epoch 4/50\n",
      "24940/24940 [==============================] - 0s 12us/sample - loss: 0.1943 - val_loss: 0.1955\n",
      "Epoch 5/50\n",
      "24940/24940 [==============================] - 0s 12us/sample - loss: 0.1918 - val_loss: 0.1941\n",
      "Epoch 6/50\n",
      "24940/24940 [==============================] - 0s 13us/sample - loss: 0.1904 - val_loss: 0.1940\n",
      "Epoch 7/50\n",
      "24940/24940 [==============================] - 0s 13us/sample - loss: 0.1888 - val_loss: 0.1935\n",
      "Epoch 8/50\n",
      "24940/24940 [==============================] - 0s 12us/sample - loss: 0.1874 - val_loss: 0.1930\n",
      "Epoch 9/50\n",
      "24940/24940 [==============================] - 0s 13us/sample - loss: 0.1869 - val_loss: 0.1938\n",
      "Epoch 10/50\n",
      "24940/24940 [==============================] - 0s 13us/sample - loss: 0.1863 - val_loss: 0.1940\n",
      "Epoch 11/50\n",
      "24940/24940 [==============================] - 0s 13us/sample - loss: 0.1847 - val_loss: 0.1939\n",
      "Epoch 12/50\n",
      "24940/24940 [==============================] - 0s 13us/sample - loss: 0.1839 - val_loss: 0.1953\n",
      "Epoch 13/50\n",
      "24940/24940 [==============================] - 0s 13us/sample - loss: 0.1830 - val_loss: 0.1952\n",
      "Epoch 14/50\n",
      "24940/24940 [==============================] - 0s 13us/sample - loss: 0.1827 - val_loss: 0.1955\n",
      "Epoch 15/50\n",
      "24940/24940 [==============================] - 0s 12us/sample - loss: 0.1821 - val_loss: 0.1944\n",
      "Epoch 16/50\n",
      "24940/24940 [==============================] - 0s 12us/sample - loss: 0.1816 - val_loss: 0.1946\n",
      "Epoch 17/50\n",
      "24940/24940 [==============================] - 0s 12us/sample - loss: 0.1808 - val_loss: 0.1966\n",
      "Epoch 18/50\n",
      "24940/24940 [==============================] - 0s 13us/sample - loss: 0.1797 - val_loss: 0.1952\n",
      "Epoch 19/50\n",
      "24940/24940 [==============================] - 0s 12us/sample - loss: 0.1793 - val_loss: 0.1955\n",
      "Epoch 20/50\n",
      "24940/24940 [==============================] - 0s 13us/sample - loss: 0.1786 - val_loss: 0.1961\n",
      "Epoch 21/50\n",
      "24940/24940 [==============================] - 0s 13us/sample - loss: 0.1785 - val_loss: 0.1961\n",
      "Epoch 22/50\n",
      "24940/24940 [==============================] - 0s 13us/sample - loss: 0.1777 - val_loss: 0.1962\n",
      "Epoch 23/50\n",
      "24940/24940 [==============================] - 0s 13us/sample - loss: 0.1775 - val_loss: 0.1958\n",
      "Epoch 24/50\n",
      "24940/24940 [==============================] - 0s 13us/sample - loss: 0.1772 - val_loss: 0.1971\n",
      "Epoch 25/50\n",
      "24940/24940 [==============================] - 0s 13us/sample - loss: 0.1761 - val_loss: 0.1967\n",
      "Epoch 26/50\n",
      "24940/24940 [==============================] - 0s 12us/sample - loss: 0.1762 - val_loss: 0.1975\n",
      "Epoch 27/50\n",
      "24940/24940 [==============================] - 0s 12us/sample - loss: 0.1755 - val_loss: 0.1972\n",
      "Epoch 28/50\n",
      "24940/24940 [==============================] - 0s 13us/sample - loss: 0.1751 - val_loss: 0.1971\n",
      "Epoch 29/50\n",
      "24940/24940 [==============================] - 0s 12us/sample - loss: 0.1748 - val_loss: 0.1966\n",
      "Epoch 30/50\n",
      "24940/24940 [==============================] - 0s 13us/sample - loss: 0.1736 - val_loss: 0.1979\n",
      "Epoch 31/50\n",
      "24940/24940 [==============================] - 0s 12us/sample - loss: 0.1729 - val_loss: 0.1976\n",
      "Epoch 32/50\n",
      "24940/24940 [==============================] - 0s 12us/sample - loss: 0.1722 - val_loss: 0.1973\n",
      "Epoch 33/50\n",
      "24940/24940 [==============================] - 0s 12us/sample - loss: 0.1719 - val_loss: 0.1973\n",
      "Epoch 34/50\n",
      "24940/24940 [==============================] - 0s 12us/sample - loss: 0.1718 - val_loss: 0.1987\n",
      "Epoch 35/50\n",
      "24940/24940 [==============================] - 0s 13us/sample - loss: 0.1712 - val_loss: 0.1984\n",
      "Epoch 36/50\n",
      "24940/24940 [==============================] - 0s 12us/sample - loss: 0.1711 - val_loss: 0.1991\n",
      "Epoch 37/50\n",
      "24940/24940 [==============================] - 0s 12us/sample - loss: 0.1715 - val_loss: 0.1996\n",
      "Epoch 38/50\n",
      "24940/24940 [==============================] - 0s 12us/sample - loss: 0.1704 - val_loss: 0.1983\n",
      "Epoch 39/50\n",
      "24940/24940 [==============================] - 0s 12us/sample - loss: 0.1697 - val_loss: 0.1996\n",
      "Epoch 40/50\n",
      "24940/24940 [==============================] - 0s 13us/sample - loss: 0.1693 - val_loss: 0.1989\n",
      "Epoch 41/50\n",
      "24940/24940 [==============================] - 0s 13us/sample - loss: 0.1694 - val_loss: 0.2003\n",
      "Epoch 42/50\n",
      "24940/24940 [==============================] - 0s 12us/sample - loss: 0.1683 - val_loss: 0.1993\n",
      "Epoch 43/50\n",
      "24940/24940 [==============================] - 0s 13us/sample - loss: 0.1675 - val_loss: 0.1995\n",
      "Epoch 44/50\n",
      "24940/24940 [==============================] - 0s 12us/sample - loss: 0.1679 - val_loss: 0.2005\n",
      "Epoch 45/50\n",
      "24940/24940 [==============================] - 0s 13us/sample - loss: 0.1677 - val_loss: 0.2017\n",
      "Epoch 46/50\n",
      "24940/24940 [==============================] - 0s 13us/sample - loss: 0.1671 - val_loss: 0.2001\n",
      "Epoch 47/50\n",
      "24940/24940 [==============================] - 0s 13us/sample - loss: 0.1676 - val_loss: 0.2001\n",
      "Epoch 48/50\n",
      "24940/24940 [==============================] - 0s 13us/sample - loss: 0.1660 - val_loss: 0.1996\n",
      "Epoch 49/50\n",
      "24940/24940 [==============================] - 0s 13us/sample - loss: 0.1655 - val_loss: 0.2005\n",
      "Epoch 50/50\n",
      "24940/24940 [==============================] - 0s 12us/sample - loss: 0.1648 - val_loss: 0.2010\n",
      "Minimum Validation Loss: 0.1930\n"
     ]
    },
    {
     "data": {
      "image/png": "[encoded data removed]",
      "text/plain": [
       "<Figure size 432x288 with 1 Axes>"
      ]
     },
     "metadata": {},
     "output_type": "display_data"
    }
   ],
   "source": [
    "model = keras.Sequential([\n",
    "    layers.Dense(128, activation='relu', input_shape=input_shape),\n",
    "    layers.Dense(64, activation='relu'),\n",
    "    layers.Dense(1)\n",
    "])\n",
    "model.compile(\n",
    "    optimizer='adam',\n",
    "    loss='mae',\n",
    ")\n",
    "history = model.fit(\n",
    "    X_train, y_train,\n",
    "    validation_data=(X_valid, y_valid),\n",
    "    batch_size=512,\n",
    "    epochs=50,\n",
    ")\n",
    "history_df = pd.DataFrame(history.history)\n",
    "history_df.loc[:, ['loss', 'val_loss']].plot()\n",
    "print(\"Minimum Validation Loss: {:0.4f}\".format(history_df['val_loss'].min()));"
   ]
  },
  {
   "cell_type": "markdown",
   "metadata": {},
   "source": [
    "- in this case, the value loss for the train model continues to decrease, but the validate value loss actually begins to increase. This indicates that the model is overfit"
   ]
  },
  {
   "cell_type": "markdown",
   "metadata": {},
   "source": [
    "### Now define an early stopping callback that waits for 5 epochs and needs a validation loss of .001"
   ]
  },
  {
   "cell_type": "code",
   "execution_count": 47,
   "metadata": {},
   "outputs": [],
   "source": [
    "early_stopping = callbacks.EarlyStopping(\n",
    "    min_delta=0.001, # minimium amount of change to count as an improvement\n",
    "    patience=5, # how many epochs to wait before stopping\n",
    "    restore_best_weights=True,\n",
    ")"
   ]
  },
  {
   "cell_type": "code",
   "execution_count": 48,
   "metadata": {},
   "outputs": [
    {
     "name": "stdout",
     "output_type": "stream",
     "text": [
      "Train on 24940 samples, validate on 7888 samples\n",
      "Epoch 1/50\n",
      "24940/24940 [==============================] - 1s 29us/sample - loss: 0.2496 - val_loss: 0.2067\n",
      "Epoch 2/50\n",
      "24940/24940 [==============================] - 0s 13us/sample - loss: 0.2023 - val_loss: 0.2003\n",
      "Epoch 3/50\n",
      "24940/24940 [==============================] - 0s 13us/sample - loss: 0.1970 - val_loss: 0.1981\n",
      "Epoch 4/50\n",
      "24940/24940 [==============================] - 0s 13us/sample - loss: 0.1944 - val_loss: 0.1983\n",
      "Epoch 5/50\n",
      "24940/24940 [==============================] - 0s 13us/sample - loss: 0.1925 - val_loss: 0.1961\n",
      "Epoch 6/50\n",
      "24940/24940 [==============================] - 0s 13us/sample - loss: 0.1907 - val_loss: 0.1959\n",
      "Epoch 7/50\n",
      "24940/24940 [==============================] - 0s 13us/sample - loss: 0.1893 - val_loss: 0.1946\n",
      "Epoch 8/50\n",
      "24940/24940 [==============================] - 0s 13us/sample - loss: 0.1881 - val_loss: 0.1954\n",
      "Epoch 9/50\n",
      "24940/24940 [==============================] - 0s 13us/sample - loss: 0.1872 - val_loss: 0.1968\n",
      "Epoch 10/50\n",
      "24940/24940 [==============================] - 0s 13us/sample - loss: 0.1870 - val_loss: 0.1953\n",
      "Epoch 11/50\n",
      "24940/24940 [==============================] - 0s 13us/sample - loss: 0.1854 - val_loss: 0.1955\n",
      "Epoch 12/50\n",
      "24940/24940 [==============================] - 0s 14us/sample - loss: 0.1844 - val_loss: 0.1953\n",
      "Minimum Validation Loss: 0.1946\n"
     ]
    },
    {
     "data": {
      "image/png": "[encoded data removed]",
      "text/plain": [
       "<Figure size 432x288 with 1 Axes>"
      ]
     },
     "metadata": {},
     "output_type": "display_data"
    }
   ],
   "source": [
    "model = keras.Sequential([\n",
    "    layers.Dense(128, activation='relu', input_shape=input_shape),\n",
    "    layers.Dense(64, activation='relu'),    \n",
    "    layers.Dense(1)\n",
    "])\n",
    "model.compile(\n",
    "    optimizer='adam',\n",
    "    loss='mae',\n",
    ")\n",
    "history = model.fit(\n",
    "    X_train, y_train,\n",
    "    validation_data=(X_valid, y_valid),\n",
    "    batch_size=512,\n",
    "    epochs=50,\n",
    "    callbacks=[early_stopping]\n",
    ")\n",
    "history_df = pd.DataFrame(history.history)\n",
    "history_df.loc[:, ['loss', 'val_loss']].plot()\n",
    "print(\"Minimum Validation Loss: {:0.4f}\".format(history_df['val_loss'].min()));"
   ]
  },
  {
   "cell_type": "markdown",
   "metadata": {},
   "source": [
    "The model had an improvement minimum validation loss of .012 compared to the first model "
   ]
  },
  {
   "cell_type": "markdown",
   "metadata": {},
   "source": [
    "## Dropout and Batch Normalization"
   ]
  },
  {
   "cell_type": "markdown",
   "metadata": {},
   "source": [
    "### 1. Add Dropout to the Spotify Model above"
   ]
  },
  {
   "cell_type": "code",
   "execution_count": 49,
   "metadata": {},
   "outputs": [],
   "source": [
    "model = keras.Sequential([\n",
    "    layers.Dense(128, activation='relu', input_shape=input_shape),\n",
    "    layers.Dropout(rate = .3),\n",
    "    layers.Dense(64, activation='relu'),\n",
    "    layers.Dropout(rate = .3),\n",
    "    layers.Dense(1)\n",
    "])"
   ]
  },
  {
   "cell_type": "code",
   "execution_count": 50,
   "metadata": {},
   "outputs": [
    {
     "name": "stdout",
     "output_type": "stream",
     "text": [
      "Minimum Validation Loss: 0.1898\n"
     ]
    },
    {
     "data": {
      "image/png": "[encoded data removed]",
      "text/plain": [
       "<Figure size 432x288 with 1 Axes>"
      ]
     },
     "metadata": {},
     "output_type": "display_data"
    }
   ],
   "source": [
    "model.compile(\n",
    "    optimizer='adam',\n",
    "    loss='mae',\n",
    ")\n",
    "history = model.fit(\n",
    "    X_train, y_train,\n",
    "    validation_data=(X_valid, y_valid),\n",
    "    batch_size=512,\n",
    "    epochs=50,\n",
    "    verbose=0,\n",
    ")\n",
    "history_df = pd.DataFrame(history.history)\n",
    "history_df.loc[:, ['loss', 'val_loss']].plot()\n",
    "print(\"Minimum Validation Loss: {:0.4f}\".format(history_df['val_loss'].min()))"
   ]
  },
  {
   "cell_type": "code",
   "execution_count": 51,
   "metadata": {},
   "outputs": [],
   "source": [
    "concrete = pd.read_csv('archive/concrete.csv')\n",
    "df = concrete.copy()\n",
    "\n",
    "df_train = df.sample(frac=0.7, random_state=0)\n",
    "df_valid = df.drop(df_train.index)\n",
    "\n",
    "X_train = df_train.drop('CompressiveStrength', axis=1)\n",
    "X_valid = df_valid.drop('CompressiveStrength', axis=1)\n",
    "y_train = df_train['CompressiveStrength']\n",
    "y_valid = df_valid['CompressiveStrength']\n",
    "\n",
    "input_shape = [X_train.shape[1]]"
   ]
  },
  {
   "cell_type": "code",
   "execution_count": 52,
   "metadata": {},
   "outputs": [
    {
     "name": "stdout",
     "output_type": "stream",
     "text": [
      "Minimum Validation Loss: nan\n"
     ]
    },
    {
     "data": {
      "image/png": "[encoded data removed]",
      "text/plain": [
       "<Figure size 432x288 with 1 Axes>"
      ]
     },
     "metadata": {},
     "output_type": "display_data"
    }
   ],
   "source": [
    "model = keras.Sequential([\n",
    "    layers.Dense(512, activation='relu', input_shape=input_shape),\n",
    "    layers.Dense(512, activation='relu'),    \n",
    "    layers.Dense(512, activation='relu'),\n",
    "    layers.Dense(1),\n",
    "])\n",
    "model.compile(\n",
    "    optimizer='sgd', # SGD is more sensitive to differences of scale\n",
    "    loss='mae',\n",
    "    metrics=['mae'],\n",
    ")\n",
    "history = model.fit(\n",
    "    np.asarray(X_train), np.asarray(y_train),\n",
    "    validation_data=(np.asarray(X_valid), np.asarray(y_valid)),\n",
    "    batch_size=64,\n",
    "    epochs=100,\n",
    "    verbose=0,\n",
    ")\n",
    "\n",
    "history_df = pd.DataFrame(history.history)\n",
    "history_df.loc[0:, ['loss', 'val_loss']].plot()\n",
    "print((\"Minimum Validation Loss: {:0.4f}\").format(history_df['val_loss'].min()))"
   ]
  },
  {
   "cell_type": "code",
   "execution_count": 53,
   "metadata": {},
   "outputs": [],
   "source": [
    "model = keras.Sequential([\n",
    "    layers.BatchNormalization(),\n",
    "    layers.Dense(512, activation='relu', input_shape=input_shape),\n",
    "    layers.BatchNormalization(),\n",
    "    layers.Dense(512, activation='relu'),    \n",
    "    layers.BatchNormalization(),\n",
    "    layers.Dense(512, activation='relu'),\n",
    "    layers.BatchNormalization(),\n",
    "    layers.Dense(1),\n",
    "])"
   ]
  },
  {
   "cell_type": "code",
   "execution_count": 54,
   "metadata": {},
   "outputs": [
    {
     "name": "stdout",
     "output_type": "stream",
     "text": [
      "Minimum Validation Loss: 3.9942\n"
     ]
    },
    {
     "data": {
      "image/png": "[encoded data removed]",
      "text/plain": [
       "<Figure size 432x288 with 1 Axes>"
      ]
     },
     "metadata": {},
     "output_type": "display_data"
    }
   ],
   "source": [
    "model.compile(\n",
    "    optimizer='sgd',\n",
    "    loss='mae',\n",
    "    metrics=['mae'],\n",
    ")\n",
    "EPOCHS = 100\n",
    "history = model.fit(\n",
    "    np.asarray(X_train), np.asarray(y_train),\n",
    "    validation_data=(np.asarray(X_valid), np.asarray(y_valid)),\n",
    "    batch_size=64,\n",
    "    epochs=EPOCHS,\n",
    "    verbose=0,\n",
    ")\n",
    "\n",
    "history_df = pd.DataFrame(history.history)\n",
    "history_df.loc[0:, ['loss', 'val_loss']].plot()\n",
    "print((\"Minimum Validation Loss: {:0.4f}\").format(history_df['val_loss'].min()))"
   ]
  },
  {
   "cell_type": "code",
   "execution_count": 55,
   "metadata": {},
   "outputs": [
    {
     "name": "stdout",
     "output_type": "stream",
     "text": [
      "Minimum Validation Loss: 6.0559\n"
     ]
    },
    {
     "data": {
      "image/png": "[encoded data removed]",
      "text/plain": [
       "<Figure size 432x288 with 1 Axes>"
      ]
     },
     "metadata": {},
     "output_type": "display_data"
    }
   ],
   "source": [
    "model = keras.Sequential([\n",
    "    layers.BatchNormalization(),\n",
    "    layers.Dense(512, activation='relu', input_shape=input_shape),\n",
    "    layers.Dropout(rate = .3),\n",
    "    layers.BatchNormalization(),\n",
    "    layers.Dense(512, activation='relu'),\n",
    "    layers.Dropout(rate = .3),\n",
    "    layers.BatchNormalization(),\n",
    "    layers.Dense(512, activation='relu'),\n",
    "    layers.Dropout(rate = .3),\n",
    "    layers.BatchNormalization(),\n",
    "    layers.Dense(1),\n",
    "])\n",
    "model.compile(\n",
    "    optimizer='sgd',\n",
    "    loss='mae',\n",
    "    metrics=['mae'],\n",
    ")\n",
    "EPOCHS = 100\n",
    "history = model.fit(\n",
    "    np.asarray(X_train), np.asarray(y_train),\n",
    "    validation_data=(np.asarray(X_valid), np.asarray(y_valid)),\n",
    "    batch_size=64,\n",
    "    epochs=EPOCHS,\n",
    "    verbose=0,\n",
    "    callbacks=[early_stopping]\n",
    ")\n",
    "\n",
    "history_df = pd.DataFrame(history.history)\n",
    "history_df.loc[0:, ['loss', 'val_loss']].plot()\n",
    "print((\"Minimum Validation Loss: {:0.4f}\").format(history_df['val_loss'].min()))"
   ]
  },
  {
   "cell_type": "markdown",
   "metadata": {},
   "source": [
    "## Binary Classification"
   ]
  },
  {
   "cell_type": "code",
   "execution_count": 58,
   "metadata": {},
   "outputs": [],
   "source": [
    "hotel = pd.read_csv('archive/hotel.csv')"
   ]
  },
  {
   "cell_type": "code",
   "execution_count": 62,
   "metadata": {},
   "outputs": [],
   "source": [
    "X = hotel.copy()\n",
    "y = X.pop('is_canceled')"
   ]
  },
  {
   "cell_type": "code",
   "execution_count": 63,
   "metadata": {},
   "outputs": [],
   "source": [
    "X['arrival_date_month'] = X['arrival_date_month'].map({'January': 1, 'February': 2, 'March' : 3,\n",
    "                                                       'April':4, 'May':5, 'June':6, 'July':7,\n",
    "                                                       'August':8, 'September':9, 'October':10,\n",
    "                                                       'November':11, 'December':12})"
   ]
  },
  {
   "cell_type": "code",
   "execution_count": 64,
   "metadata": {},
   "outputs": [],
   "source": [
    "features_num = [\"lead_time\", \"arrival_date_week_number\",\n",
    "                \"arrival_date_day_of_month\", \"stays_in_weekend_nights\",\n",
    "                \"stays_in_week_nights\", \"adults\", \"children\", \"babies\",\n",
    "                \"is_repeated_guest\", \"previous_cancellations\",\n",
    "                \"previous_bookings_not_canceled\", \"required_car_parking_spaces\",\n",
    "                \"total_of_special_requests\", \"adr\"]"
   ]
  },
  {
   "cell_type": "code",
   "execution_count": 65,
   "metadata": {},
   "outputs": [],
   "source": [
    "features_cat = [\"hotel\", \"arrival_date_month\", \"meal\",\n",
    "                \"market_segment\", \"distribution_channel\",\n",
    "                \"reserved_room_type\", \"deposit_type\", \"customer_type\"]"
   ]
  },
  {
   "cell_type": "code",
   "execution_count": 67,
   "metadata": {},
   "outputs": [],
   "source": [
    "transformer_num = make_pipeline(SimpleImputer(strategy = 'constant'), StandardScaler())"
   ]
  },
  {
   "cell_type": "code",
   "execution_count": 68,
   "metadata": {},
   "outputs": [],
   "source": [
    "transformer_cat = make_pipeline(SimpleImputer(strategy = 'constant', fill_value = 'NA'), OneHotEncoder(handle_unknown = 'ignore'))"
   ]
  },
  {
   "cell_type": "code",
   "execution_count": 69,
   "metadata": {},
   "outputs": [],
   "source": [
    "preprocessor = make_column_transformer((transformer_num, features_num),(transformer_cat, features_cat))"
   ]
  },
  {
   "cell_type": "code",
   "execution_count": 71,
   "metadata": {},
   "outputs": [],
   "source": [
    "X_train, X_valid, y_train, y_valid = train_test_split(X, y, stratify=y, train_size=0.75)"
   ]
  },
  {
   "cell_type": "code",
   "execution_count": 72,
   "metadata": {},
   "outputs": [],
   "source": [
    "X_train = preprocessor.fit_transform(X_train)\n",
    "X_valid = preprocessor.transform(X_valid)"
   ]
  },
  {
   "cell_type": "code",
   "execution_count": 73,
   "metadata": {},
   "outputs": [],
   "source": [
    "input_shape = [X_train.shape[1]]"
   ]
  },
  {
   "cell_type": "markdown",
   "metadata": {},
   "source": [
    "### 1. Define the Model"
   ]
  },
  {
   "cell_type": "code",
   "execution_count": 74,
   "metadata": {},
   "outputs": [],
   "source": [
    "model = keras.Sequential([\n",
    "    layers.BatchNormalization(input_shape = input_shape),\n",
    "    \n",
    "    layers.Dense(256, activation='relu'),\n",
    "    layers.BatchNormalization(),\n",
    "    layers.Dropout(rate = .3),\n",
    "    \n",
    "    layers.Dense(4, activation='relu'),  \n",
    "    layers.BatchNormalization(),\n",
    "    layers.Dropout(rate = .3),\n",
    "    \n",
    "    layers.Dense(1, activation='sigmoid'),\n",
    "])"
   ]
  },
  {
   "cell_type": "markdown",
   "metadata": {},
   "source": [
    "### 2. Add optimizer, loss, and metric"
   ]
  },
  {
   "cell_type": "code",
   "execution_count": 75,
   "metadata": {},
   "outputs": [],
   "source": [
    "model.compile(\n",
    "    optimizer='adam',\n",
    "    loss='binary_crossentropy',\n",
    "    metrics=['binary_accuracy'],\n",
    ")"
   ]
  },
  {
   "cell_type": "code",
   "execution_count": 77,
   "metadata": {},
   "outputs": [
    {
     "name": "stdout",
     "output_type": "stream",
     "text": [
      "Train on 89542 samples, validate on 29848 samples\n",
      "Epoch 1/200\n",
      "89542/89542 [==============================] - 5s 54us/sample - loss: 0.5204 - binary_accuracy: 0.7359 - val_loss: 0.4479 - val_binary_accuracy: 0.8008\n",
      "Epoch 2/200\n",
      "89542/89542 [==============================] - 3s 38us/sample - loss: 0.4502 - binary_accuracy: 0.7942 - val_loss: 0.4101 - val_binary_accuracy: 0.8110\n",
      "Epoch 3/200\n",
      "89542/89542 [==============================] - 3s 38us/sample - loss: 0.4373 - binary_accuracy: 0.7999 - val_loss: 0.4010 - val_binary_accuracy: 0.8150\n",
      "Epoch 4/200\n",
      "89542/89542 [==============================] - 3s 38us/sample - loss: 0.4285 - binary_accuracy: 0.8034 - val_loss: 0.3943 - val_binary_accuracy: 0.8184\n",
      "Epoch 5/200\n",
      "89542/89542 [==============================] - 3s 37us/sample - loss: 0.4231 - binary_accuracy: 0.8071 - val_loss: 0.3924 - val_binary_accuracy: 0.8212\n",
      "Epoch 6/200\n",
      "89542/89542 [==============================] - 3s 37us/sample - loss: 0.4185 - binary_accuracy: 0.8090 - val_loss: 0.3895 - val_binary_accuracy: 0.8217\n",
      "Epoch 7/200\n",
      "89542/89542 [==============================] - 3s 37us/sample - loss: 0.4158 - binary_accuracy: 0.8079 - val_loss: 0.3883 - val_binary_accuracy: 0.8229\n",
      "Epoch 8/200\n",
      "89542/89542 [==============================] - 3s 38us/sample - loss: 0.4123 - binary_accuracy: 0.8112 - val_loss: 0.3869 - val_binary_accuracy: 0.8242\n",
      "Epoch 9/200\n",
      "89542/89542 [==============================] - 3s 38us/sample - loss: 0.4092 - binary_accuracy: 0.8122 - val_loss: 0.3817 - val_binary_accuracy: 0.8246\n",
      "Epoch 10/200\n",
      "89542/89542 [==============================] - 3s 38us/sample - loss: 0.4061 - binary_accuracy: 0.8138 - val_loss: 0.3820 - val_binary_accuracy: 0.8266\n",
      "Epoch 11/200\n",
      "89542/89542 [==============================] - 3s 38us/sample - loss: 0.4036 - binary_accuracy: 0.8152 - val_loss: 0.3780 - val_binary_accuracy: 0.8264\n",
      "Epoch 12/200\n",
      "89542/89542 [==============================] - 3s 37us/sample - loss: 0.4009 - binary_accuracy: 0.8173 - val_loss: 0.3770 - val_binary_accuracy: 0.8289\n",
      "Epoch 13/200\n",
      "89542/89542 [==============================] - 3s 38us/sample - loss: 0.4001 - binary_accuracy: 0.8161 - val_loss: 0.3767 - val_binary_accuracy: 0.8293\n",
      "Epoch 14/200\n",
      "89542/89542 [==============================] - 3s 38us/sample - loss: 0.3987 - binary_accuracy: 0.8171 - val_loss: 0.3815 - val_binary_accuracy: 0.8257\n",
      "Epoch 15/200\n",
      "89542/89542 [==============================] - 3s 38us/sample - loss: 0.3968 - binary_accuracy: 0.8194 - val_loss: 0.3749 - val_binary_accuracy: 0.8294\n",
      "Epoch 16/200\n",
      "89542/89542 [==============================] - 3s 39us/sample - loss: 0.3960 - binary_accuracy: 0.8181 - val_loss: 0.3747 - val_binary_accuracy: 0.8279\n",
      "Epoch 17/200\n",
      "89542/89542 [==============================] - 3s 38us/sample - loss: 0.3922 - binary_accuracy: 0.8207 - val_loss: 0.3744 - val_binary_accuracy: 0.8306\n",
      "Epoch 18/200\n",
      "89542/89542 [==============================] - 3s 38us/sample - loss: 0.3929 - binary_accuracy: 0.8203 - val_loss: 0.3721 - val_binary_accuracy: 0.8316\n",
      "Epoch 19/200\n",
      "89542/89542 [==============================] - 3s 38us/sample - loss: 0.3921 - binary_accuracy: 0.8202 - val_loss: 0.3721 - val_binary_accuracy: 0.8291\n",
      "Epoch 20/200\n",
      "89542/89542 [==============================] - 3s 38us/sample - loss: 0.3917 - binary_accuracy: 0.8219 - val_loss: 0.3709 - val_binary_accuracy: 0.8320\n",
      "Epoch 21/200\n",
      "89542/89542 [==============================] - 3s 37us/sample - loss: 0.3902 - binary_accuracy: 0.8206 - val_loss: 0.3730 - val_binary_accuracy: 0.8297\n",
      "Epoch 22/200\n",
      "89542/89542 [==============================] - 3s 38us/sample - loss: 0.3889 - binary_accuracy: 0.8221 - val_loss: 0.3737 - val_binary_accuracy: 0.8323\n",
      "Epoch 23/200\n",
      "89542/89542 [==============================] - 4s 39us/sample - loss: 0.3882 - binary_accuracy: 0.8222 - val_loss: 0.3736 - val_binary_accuracy: 0.8304\n",
      "Epoch 24/200\n",
      "89542/89542 [==============================] - 3s 38us/sample - loss: 0.3877 - binary_accuracy: 0.8227 - val_loss: 0.3684 - val_binary_accuracy: 0.8319\n",
      "Epoch 25/200\n",
      "89542/89542 [==============================] - 3s 38us/sample - loss: 0.3872 - binary_accuracy: 0.8237 - val_loss: 0.3717 - val_binary_accuracy: 0.8311\n",
      "Epoch 26/200\n",
      "89542/89542 [==============================] - 3s 38us/sample - loss: 0.3850 - binary_accuracy: 0.8246 - val_loss: 0.3711 - val_binary_accuracy: 0.8326\n",
      "Epoch 27/200\n",
      "89542/89542 [==============================] - 7s 75us/sample - loss: 0.3850 - binary_accuracy: 0.8236 - val_loss: 0.3714 - val_binary_accuracy: 0.8329\n",
      "Epoch 28/200\n",
      "89542/89542 [==============================] - 4s 47us/sample - loss: 0.3840 - binary_accuracy: 0.8243 - val_loss: 0.3722 - val_binary_accuracy: 0.8297\n",
      "Epoch 29/200\n",
      "89542/89542 [==============================] - 4s 43us/sample - loss: 0.3826 - binary_accuracy: 0.8248 - val_loss: 0.3651 - val_binary_accuracy: 0.8344\n",
      "Epoch 30/200\n",
      "89542/89542 [==============================] - 4s 41us/sample - loss: 0.3839 - binary_accuracy: 0.8232 - val_loss: 0.3641 - val_binary_accuracy: 0.8357\n",
      "Epoch 31/200\n",
      "89542/89542 [==============================] - 4s 41us/sample - loss: 0.3826 - binary_accuracy: 0.8240 - val_loss: 0.3642 - val_binary_accuracy: 0.8349\n",
      "Epoch 32/200\n",
      "89542/89542 [==============================] - 4s 44us/sample - loss: 0.3821 - binary_accuracy: 0.8247 - val_loss: 0.3641 - val_binary_accuracy: 0.8369\n",
      "Epoch 33/200\n",
      "89542/89542 [==============================] - 4s 42us/sample - loss: 0.3800 - binary_accuracy: 0.8261 - val_loss: 0.3646 - val_binary_accuracy: 0.8357\n",
      "Epoch 34/200\n",
      "89542/89542 [==============================] - 4s 41us/sample - loss: 0.3807 - binary_accuracy: 0.8260 - val_loss: 0.3634 - val_binary_accuracy: 0.8360\n",
      "Epoch 35/200\n",
      "89542/89542 [==============================] - 4s 42us/sample - loss: 0.3813 - binary_accuracy: 0.8252 - val_loss: 0.3696 - val_binary_accuracy: 0.8336\n"
     ]
    },
    {
     "data": {
      "text/plain": [
       "<matplotlib.axes._subplots.AxesSubplot at 0x7f9c9057e550>"
      ]
     },
     "execution_count": 77,
     "metadata": {},
     "output_type": "execute_result"
    },
    {
     "data": {
      "image/png": "[encoded data removed]",
      "text/plain": [
       "<Figure size 432x288 with 1 Axes>"
      ]
     },
     "metadata": {},
     "output_type": "display_data"
    },
    {
     "data": {
      "image/png": "[encoded data removed]",
      "text/plain": [
       "<Figure size 432x288 with 1 Axes>"
      ]
     },
     "metadata": {},
     "output_type": "display_data"
    }
   ],
   "source": [
    "early_stopping = keras.callbacks.EarlyStopping(\n",
    "    patience=5,\n",
    "    min_delta=0.001,\n",
    "    restore_best_weights=True,\n",
    ")\n",
    "history = model.fit(\n",
    "    np.asarray(X_train), np.asarray(y_train),\n",
    "    validation_data=(np.asarray(X_valid), np.asarray(y_valid)),\n",
    "    batch_size=512,\n",
    "    epochs=200,\n",
    "    callbacks=[early_stopping],\n",
    ")\n",
    "\n",
    "history_df = pd.DataFrame(history.history)\n",
    "history_df.loc[:, ['loss', 'val_loss']].plot(title=\"Cross-entropy\")\n",
    "history_df.loc[:, ['binary_accuracy', 'val_binary_accuracy']].plot(title=\"Accuracy\")"
   ]
  },
  {
   "cell_type": "code",
   "execution_count": null,
   "metadata": {},
   "outputs": [],
   "source": []
  }
 ],
 "metadata": {
  "kernelspec": {
   "display_name": "Python 3",
   "language": "python",
   "name": "python3"
  },
  "language_info": {
   "codemirror_mode": {
    "name": "ipython",
    "version": 3
   },
   "file_extension": ".py",
   "mimetype": "text/x-python",
   "name": "python",
   "nbconvert_exporter": "python",
   "pygments_lexer": "ipython3",
   "version": "3.7.10"
  }
 },
 "nbformat": 4,
 "nbformat_minor": 4
}
